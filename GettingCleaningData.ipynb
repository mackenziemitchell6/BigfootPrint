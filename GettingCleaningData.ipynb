{
 "cells": [
  {
   "cell_type": "code",
   "execution_count": 97,
   "metadata": {},
   "outputs": [],
   "source": [
    "import pandas as pd\n",
    "import matplotlib.pyplot as plt\n",
    "import statsmodels.api as sm\n",
    "import statsmodels.formula.api as smf\n",
    "import scipy.stats as stats\n",
    "import pandas as pd\n",
    "import scipy.stats as sci\n",
    "import numpy as np\n",
    "import seaborn as sns\n",
    "import pickle"
   ]
  },
  {
   "cell_type": "code",
   "execution_count": 98,
   "metadata": {},
   "outputs": [
    {
     "data": {
      "text/plain": [
       "country           0\n",
       "year              0\n",
       "record            0\n",
       "crop_land         0\n",
       "grazing_land      0\n",
       "forest_land       0\n",
       "fishing_ground    0\n",
       "built_up_land     0\n",
       "carbon            0\n",
       "gdp               0\n",
       "population        0\n",
       "excess_carbon     0\n",
       "dtype: int64"
      ]
     },
     "execution_count": 98,
     "metadata": {},
     "output_type": "execute_result"
    }
   ],
   "source": [
    "df=pd.read_csv('NFA2018.csv')\n",
    "df.rename(columns={'Percapita GDP (2010 USD)':'gdp'},inplace=True)\n",
    "df = df.drop(['ISO alpha-3 code', 'UN_region', 'UN_subregion', 'total'], axis=1)\n",
    "df= df[df['forest_land'] != 0.000000]\n",
    "df= df[df['built_up_land'] != 0.000000]\n",
    "df= df[df['carbon'] != 0.000000e+00]\n",
    "df=df[df['record']=='EFConsPerCap']\n",
    "df['excess_carbon']=df['carbon']-df['forest_land']\n",
    "df=df[df['carbon']<=15]\n",
    "df=df[df['excess_carbon']>=-2.5]\n",
    "df.dropna(inplace=True)\n",
    "df.isna().sum()"
   ]
  },
  {
   "cell_type": "code",
   "execution_count": 99,
   "metadata": {},
   "outputs": [
    {
     "data": {
      "text/html": [
       "<div>\n",
       "<style scoped>\n",
       "    .dataframe tbody tr th:only-of-type {\n",
       "        vertical-align: middle;\n",
       "    }\n",
       "\n",
       "    .dataframe tbody tr th {\n",
       "        vertical-align: top;\n",
       "    }\n",
       "\n",
       "    .dataframe thead th {\n",
       "        text-align: right;\n",
       "    }\n",
       "</style>\n",
       "<table border=\"1\" class=\"dataframe\">\n",
       "  <thead>\n",
       "    <tr style=\"text-align: right;\">\n",
       "      <th></th>\n",
       "      <th>year</th>\n",
       "      <th>crop_land</th>\n",
       "      <th>grazing_land</th>\n",
       "      <th>forest_land</th>\n",
       "      <th>fishing_ground</th>\n",
       "      <th>built_up_land</th>\n",
       "      <th>carbon</th>\n",
       "      <th>gdp</th>\n",
       "      <th>population</th>\n",
       "      <th>excess_carbon</th>\n",
       "    </tr>\n",
       "  </thead>\n",
       "  <tbody>\n",
       "    <tr>\n",
       "      <th>count</th>\n",
       "      <td>5413.000000</td>\n",
       "      <td>5413.000000</td>\n",
       "      <td>5413.000000</td>\n",
       "      <td>5413.000000</td>\n",
       "      <td>5413.000000</td>\n",
       "      <td>5413.000000</td>\n",
       "      <td>5413.000000</td>\n",
       "      <td>5413.000000</td>\n",
       "      <td>5.413000e+03</td>\n",
       "      <td>5413.000000</td>\n",
       "    </tr>\n",
       "    <tr>\n",
       "      <th>mean</th>\n",
       "      <td>1991.070940</td>\n",
       "      <td>0.554297</td>\n",
       "      <td>0.342298</td>\n",
       "      <td>0.451422</td>\n",
       "      <td>0.158150</td>\n",
       "      <td>0.053922</td>\n",
       "      <td>1.552451</td>\n",
       "      <td>10716.904250</td>\n",
       "      <td>9.461065e+07</td>\n",
       "      <td>1.101029</td>\n",
       "    </tr>\n",
       "    <tr>\n",
       "      <th>std</th>\n",
       "      <td>15.219803</td>\n",
       "      <td>0.286608</td>\n",
       "      <td>0.393420</td>\n",
       "      <td>0.363815</td>\n",
       "      <td>0.407921</td>\n",
       "      <td>0.036375</td>\n",
       "      <td>2.036285</td>\n",
       "      <td>15834.457316</td>\n",
       "      <td>5.378642e+08</td>\n",
       "      <td>1.939608</td>\n",
       "    </tr>\n",
       "    <tr>\n",
       "      <th>min</th>\n",
       "      <td>1961.000000</td>\n",
       "      <td>0.000000</td>\n",
       "      <td>0.000758</td>\n",
       "      <td>0.000001</td>\n",
       "      <td>0.000000</td>\n",
       "      <td>0.000563</td>\n",
       "      <td>0.005724</td>\n",
       "      <td>115.794000</td>\n",
       "      <td>1.130000e+05</td>\n",
       "      <td>-2.243538</td>\n",
       "    </tr>\n",
       "    <tr>\n",
       "      <th>25%</th>\n",
       "      <td>1979.000000</td>\n",
       "      <td>0.330249</td>\n",
       "      <td>0.101508</td>\n",
       "      <td>0.218006</td>\n",
       "      <td>0.022430</td>\n",
       "      <td>0.030423</td>\n",
       "      <td>0.141494</td>\n",
       "      <td>785.014000</td>\n",
       "      <td>3.726000e+06</td>\n",
       "      <td>-0.195407</td>\n",
       "    </tr>\n",
       "    <tr>\n",
       "      <th>50%</th>\n",
       "      <td>1993.000000</td>\n",
       "      <td>0.462716</td>\n",
       "      <td>0.225962</td>\n",
       "      <td>0.359931</td>\n",
       "      <td>0.059782</td>\n",
       "      <td>0.044165</td>\n",
       "      <td>0.626128</td>\n",
       "      <td>3044.950000</td>\n",
       "      <td>9.465000e+06</td>\n",
       "      <td>0.332462</td>\n",
       "    </tr>\n",
       "    <tr>\n",
       "      <th>75%</th>\n",
       "      <td>2004.000000</td>\n",
       "      <td>0.737319</td>\n",
       "      <td>0.427505</td>\n",
       "      <td>0.567009</td>\n",
       "      <td>0.147805</td>\n",
       "      <td>0.064678</td>\n",
       "      <td>2.476932</td>\n",
       "      <td>14964.700000</td>\n",
       "      <td>2.998600e+07</td>\n",
       "      <td>1.995058</td>\n",
       "    </tr>\n",
       "    <tr>\n",
       "      <th>max</th>\n",
       "      <td>2014.000000</td>\n",
       "      <td>2.000459</td>\n",
       "      <td>4.589000</td>\n",
       "      <td>3.323116</td>\n",
       "      <td>5.603547</td>\n",
       "      <td>0.304195</td>\n",
       "      <td>14.794340</td>\n",
       "      <td>111968.000000</td>\n",
       "      <td>7.265786e+09</td>\n",
       "      <td>14.476730</td>\n",
       "    </tr>\n",
       "  </tbody>\n",
       "</table>\n",
       "</div>"
      ],
      "text/plain": [
       "              year    crop_land  grazing_land  forest_land  fishing_ground  \\\n",
       "count  5413.000000  5413.000000   5413.000000  5413.000000     5413.000000   \n",
       "mean   1991.070940     0.554297      0.342298     0.451422        0.158150   \n",
       "std      15.219803     0.286608      0.393420     0.363815        0.407921   \n",
       "min    1961.000000     0.000000      0.000758     0.000001        0.000000   \n",
       "25%    1979.000000     0.330249      0.101508     0.218006        0.022430   \n",
       "50%    1993.000000     0.462716      0.225962     0.359931        0.059782   \n",
       "75%    2004.000000     0.737319      0.427505     0.567009        0.147805   \n",
       "max    2014.000000     2.000459      4.589000     3.323116        5.603547   \n",
       "\n",
       "       built_up_land       carbon            gdp    population  excess_carbon  \n",
       "count    5413.000000  5413.000000    5413.000000  5.413000e+03    5413.000000  \n",
       "mean        0.053922     1.552451   10716.904250  9.461065e+07       1.101029  \n",
       "std         0.036375     2.036285   15834.457316  5.378642e+08       1.939608  \n",
       "min         0.000563     0.005724     115.794000  1.130000e+05      -2.243538  \n",
       "25%         0.030423     0.141494     785.014000  3.726000e+06      -0.195407  \n",
       "50%         0.044165     0.626128    3044.950000  9.465000e+06       0.332462  \n",
       "75%         0.064678     2.476932   14964.700000  2.998600e+07       1.995058  \n",
       "max         0.304195    14.794340  111968.000000  7.265786e+09      14.476730  "
      ]
     },
     "execution_count": 99,
     "metadata": {},
     "output_type": "execute_result"
    }
   ],
   "source": [
    "df.describe()"
   ]
  },
  {
   "cell_type": "code",
   "execution_count": 100,
   "metadata": {
    "scrolled": false
   },
   "outputs": [
    {
     "data": {
      "text/html": [
       "<div>\n",
       "<style scoped>\n",
       "    .dataframe tbody tr th:only-of-type {\n",
       "        vertical-align: middle;\n",
       "    }\n",
       "\n",
       "    .dataframe tbody tr th {\n",
       "        vertical-align: top;\n",
       "    }\n",
       "\n",
       "    .dataframe thead th {\n",
       "        text-align: right;\n",
       "    }\n",
       "</style>\n",
       "<table border=\"1\" class=\"dataframe\">\n",
       "  <thead>\n",
       "    <tr style=\"text-align: right;\">\n",
       "      <th></th>\n",
       "      <th>year</th>\n",
       "      <th>crop_land</th>\n",
       "      <th>grazing_land</th>\n",
       "      <th>forest_land</th>\n",
       "      <th>fishing_ground</th>\n",
       "      <th>built_up_land</th>\n",
       "      <th>carbon</th>\n",
       "      <th>gdp</th>\n",
       "      <th>population</th>\n",
       "      <th>excess_carbon</th>\n",
       "    </tr>\n",
       "    <tr>\n",
       "      <th>country</th>\n",
       "      <th></th>\n",
       "      <th></th>\n",
       "      <th></th>\n",
       "      <th></th>\n",
       "      <th></th>\n",
       "      <th></th>\n",
       "      <th></th>\n",
       "      <th></th>\n",
       "      <th></th>\n",
       "      <th></th>\n",
       "    </tr>\n",
       "  </thead>\n",
       "  <tbody>\n",
       "    <tr>\n",
       "      <th>Afghanistan</th>\n",
       "      <td>2008.0</td>\n",
       "      <td>0.314920</td>\n",
       "      <td>0.201871</td>\n",
       "      <td>0.079531</td>\n",
       "      <td>0.000176</td>\n",
       "      <td>0.038115</td>\n",
       "      <td>0.102006</td>\n",
       "      <td>483.691462</td>\n",
       "      <td>2.657692e+07</td>\n",
       "      <td>0.022475</td>\n",
       "    </tr>\n",
       "    <tr>\n",
       "      <th>Albania</th>\n",
       "      <td>1997.0</td>\n",
       "      <td>0.561560</td>\n",
       "      <td>0.227433</td>\n",
       "      <td>0.213726</td>\n",
       "      <td>0.013611</td>\n",
       "      <td>0.026644</td>\n",
       "      <td>0.821524</td>\n",
       "      <td>2604.082286</td>\n",
       "      <td>3.035429e+06</td>\n",
       "      <td>0.607798</td>\n",
       "    </tr>\n",
       "    <tr>\n",
       "      <th>Algeria</th>\n",
       "      <td>2014.0</td>\n",
       "      <td>0.582685</td>\n",
       "      <td>0.183246</td>\n",
       "      <td>0.173109</td>\n",
       "      <td>0.015440</td>\n",
       "      <td>0.028063</td>\n",
       "      <td>1.466212</td>\n",
       "      <td>4675.890000</td>\n",
       "      <td>3.893400e+07</td>\n",
       "      <td>1.293102</td>\n",
       "    </tr>\n",
       "    <tr>\n",
       "      <th>Angola</th>\n",
       "      <td>1999.5</td>\n",
       "      <td>0.259227</td>\n",
       "      <td>0.198475</td>\n",
       "      <td>0.130953</td>\n",
       "      <td>0.074105</td>\n",
       "      <td>0.030036</td>\n",
       "      <td>0.205919</td>\n",
       "      <td>2590.511667</td>\n",
       "      <td>1.566893e+07</td>\n",
       "      <td>0.074965</td>\n",
       "    </tr>\n",
       "    <tr>\n",
       "      <th>Argentina</th>\n",
       "      <td>1987.5</td>\n",
       "      <td>0.597141</td>\n",
       "      <td>1.429650</td>\n",
       "      <td>0.215939</td>\n",
       "      <td>0.123337</td>\n",
       "      <td>0.071253</td>\n",
       "      <td>1.074613</td>\n",
       "      <td>7657.573519</td>\n",
       "      <td>3.162435e+07</td>\n",
       "      <td>0.858674</td>\n",
       "    </tr>\n",
       "  </tbody>\n",
       "</table>\n",
       "</div>"
      ],
      "text/plain": [
       "               year  crop_land  grazing_land  forest_land  fishing_ground  \\\n",
       "country                                                                     \n",
       "Afghanistan  2008.0   0.314920      0.201871     0.079531        0.000176   \n",
       "Albania      1997.0   0.561560      0.227433     0.213726        0.013611   \n",
       "Algeria      2014.0   0.582685      0.183246     0.173109        0.015440   \n",
       "Angola       1999.5   0.259227      0.198475     0.130953        0.074105   \n",
       "Argentina    1987.5   0.597141      1.429650     0.215939        0.123337   \n",
       "\n",
       "             built_up_land    carbon          gdp    population  excess_carbon  \n",
       "country                                                                         \n",
       "Afghanistan       0.038115  0.102006   483.691462  2.657692e+07       0.022475  \n",
       "Albania           0.026644  0.821524  2604.082286  3.035429e+06       0.607798  \n",
       "Algeria           0.028063  1.466212  4675.890000  3.893400e+07       1.293102  \n",
       "Angola            0.030036  0.205919  2590.511667  1.566893e+07       0.074965  \n",
       "Argentina         0.071253  1.074613  7657.573519  3.162435e+07       0.858674  "
      ]
     },
     "execution_count": 100,
     "metadata": {},
     "output_type": "execute_result"
    }
   ],
   "source": [
    "dfa=df.groupby(['country']).mean()\n",
    "dfa.head()"
   ]
  },
  {
   "cell_type": "code",
   "execution_count": 94,
   "metadata": {},
   "outputs": [],
   "source": [
    "with open('dfa.pickle','wb') as f:\n",
    "    pickle.dump(dfa,f,pickle.HIGHEST_PROTOCOL)"
   ]
  },
  {
   "cell_type": "code",
   "execution_count": 95,
   "metadata": {},
   "outputs": [],
   "source": [
    "with open('df.pickle','wb') as f:\n",
    "    pickle.dump(df,f,pickle.HIGHEST_PROTOCOL)"
   ]
  },
  {
   "cell_type": "code",
   "execution_count": 101,
   "metadata": {},
   "outputs": [
    {
     "data": {
      "text/plain": [
       "<matplotlib.axes._subplots.AxesSubplot at 0x7fddb867fba8>"
      ]
     },
     "execution_count": 101,
     "metadata": {},
     "output_type": "execute_result"
    },
    {
     "data": {
      "image/png": "[encoded data removed]",
      "text/plain": [
       "<Figure size 432x288 with 1 Axes>"
      ]
     },
     "metadata": {
      "needs_background": "light"
     },
     "output_type": "display_data"
    }
   ],
   "source": [
    "sns.distplot(df['year'])"
   ]
  },
  {
   "cell_type": "code",
   "execution_count": 102,
   "metadata": {},
   "outputs": [
    {
     "data": {
      "text/plain": [
       "<matplotlib.axes._subplots.AxesSubplot at 0x7fddadd00cf8>"
      ]
     },
     "execution_count": 102,
     "metadata": {},
     "output_type": "execute_result"
    },
    {
     "data": {
      "image/png": "[encoded data removed]",
      "text/plain": [
       "<Figure size 432x288 with 1 Axes>"
      ]
     },
     "metadata": {
      "needs_background": "light"
     },
     "output_type": "display_data"
    }
   ],
   "source": [
    "sns.distplot(df['crop_land'])"
   ]
  },
  {
   "cell_type": "code",
   "execution_count": 103,
   "metadata": {},
   "outputs": [
    {
     "data": {
      "text/plain": [
       "<matplotlib.axes._subplots.AxesSubplot at 0x7fdd5859f4a8>"
      ]
     },
     "execution_count": 103,
     "metadata": {},
     "output_type": "execute_result"
    },
    {
     "data": {
      "image/png": "[encoded data removed]",
      "text/plain": [
       "<Figure size 432x288 with 1 Axes>"
      ]
     },
     "metadata": {
      "needs_background": "light"
     },
     "output_type": "display_data"
    }
   ],
   "source": [
    "sns.distplot(df['built_up_land'])"
   ]
  },
  {
   "cell_type": "code",
   "execution_count": 104,
   "metadata": {},
   "outputs": [
    {
     "data": {
      "text/plain": [
       "<matplotlib.axes._subplots.AxesSubplot at 0x7fddadbfb240>"
      ]
     },
     "execution_count": 104,
     "metadata": {},
     "output_type": "execute_result"
    },
    {
     "data": {
      "image/png": "[encoded data removed]",
      "text/plain": [
       "<Figure size 432x288 with 1 Axes>"
      ]
     },
     "metadata": {
      "needs_background": "light"
     },
     "output_type": "display_data"
    }
   ],
   "source": [
    "sns.distplot(df['grazing_land'])"
   ]
  },
  {
   "cell_type": "code",
   "execution_count": 105,
   "metadata": {},
   "outputs": [
    {
     "data": {
      "text/plain": [
       "<matplotlib.axes._subplots.AxesSubplot at 0x7fdd684c8eb8>"
      ]
     },
     "execution_count": 105,
     "metadata": {},
     "output_type": "execute_result"
    },
    {
     "data": {
      "image/png": "[encoded data removed]",
      "text/plain": [
       "<Figure size 432x288 with 1 Axes>"
      ]
     },
     "metadata": {
      "needs_background": "light"
     },
     "output_type": "display_data"
    }
   ],
   "source": [
    "sns.distplot(df['forest_land'])"
   ]
  },
  {
   "cell_type": "code",
   "execution_count": 106,
   "metadata": {},
   "outputs": [
    {
     "data": {
      "text/plain": [
       "<matplotlib.axes._subplots.AxesSubplot at 0x7fddade52668>"
      ]
     },
     "execution_count": 106,
     "metadata": {},
     "output_type": "execute_result"
    },
    {
     "data": {
      "image/png": "[encoded data removed]",
      "text/plain": [
       "<Figure size 432x288 with 1 Axes>"
      ]
     },
     "metadata": {
      "needs_background": "light"
     },
     "output_type": "display_data"
    }
   ],
   "source": [
    "sns.distplot(df['fishing_ground'])"
   ]
  },
  {
   "cell_type": "code",
   "execution_count": 107,
   "metadata": {},
   "outputs": [
    {
     "data": {
      "text/plain": [
       "<matplotlib.axes._subplots.AxesSubplot at 0x7fdd9908ef98>"
      ]
     },
     "execution_count": 107,
     "metadata": {},
     "output_type": "execute_result"
    },
    {
     "data": {
      "image/png": "[encoded data removed]",
      "text/plain": [
       "<Figure size 432x288 with 1 Axes>"
      ]
     },
     "metadata": {
      "needs_background": "light"
     },
     "output_type": "display_data"
    }
   ],
   "source": [
    "sns.distplot(df['gdp'])"
   ]
  }
 ],
 "metadata": {
  "kernelspec": {
   "display_name": "Python 3",
   "language": "python",
   "name": "python3"
  },
  "language_info": {
   "codemirror_mode": {
    "name": "ipython",
    "version": 3
   },
   "file_extension": ".py",
   "mimetype": "text/x-python",
   "name": "python",
   "nbconvert_exporter": "python",
   "pygments_lexer": "ipython3",
   "version": "3.7.3"
  }
 },
 "nbformat": 4,
 "nbformat_minor": 2
}

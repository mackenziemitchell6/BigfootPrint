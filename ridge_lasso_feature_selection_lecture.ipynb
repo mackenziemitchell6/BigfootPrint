{
 "cells": [
  {
   "cell_type": "markdown",
   "metadata": {},
   "source": [
    "# Regularization and Feature Selection Lecture:"
   ]
  },
  {
   "cell_type": "markdown",
   "metadata": {},
   "source": [
    "## Today's learning goals:"
   ]
  },
  {
   "cell_type": "markdown",
   "metadata": {},
   "source": [
    "After today, you'll be able to:\n",
    "\n",
    "- explain what the problems of over/underfitting are and how they relate to the bias/variance trade-off\n",
    "- explain how regularization addresses the over/underfitting problem\n",
    "- explain the differences between regularization methods and when it is appropriate to use them\n",
    "- explain the factors to consider when deciding which features to include\n",
    "- apply feature selection and regularization to prevent overfitting in a model"
   ]
  },
  {
   "cell_type": "markdown",
   "metadata": {},
   "source": [
    "## **---> [Slides for this lecture here](https://docs.google.com/presentation/d/1ge1VtFkkIDWWX920__m8nhi-7eK17FwOJW2ay6YdRPo/edit?usp=sharing) <---**"
   ]
  },
  {
   "cell_type": "markdown",
   "metadata": {},
   "source": [
    "---"
   ]
  },
  {
   "cell_type": "markdown",
   "metadata": {},
   "source": [
    "### Review:  Under/Overfitting & Bias/Variance "
   ]
  },
  {
   "cell_type": "markdown",
   "metadata": {},
   "source": [
    "#### Underfitting"
   ]
  },
  {
   "cell_type": "markdown",
   "metadata": {},
   "source": [
    "- **Underfitting occurs when a statistical model or machine learning algorithm cannot capture the underlying trend of the data.**  \n",
    "- Intuitively, underfitting occurs when the model or the algorithm does not fit the data well enough.  \n",
    "- Specifically, underfitting occurs if the model or algorithm shows low variance but high bias.  \n",
    "\n",
    "Underfitting is often a result of an excessively simple model. Underfitting is often not discussed as it is easy to detect given a good performance metric. Nevertheless, it does provide a good contrast to the problem of overfitting."
   ]
  },
  {
   "cell_type": "markdown",
   "metadata": {},
   "source": [
    "#### Overfitting"
   ]
  },
  {
   "cell_type": "markdown",
   "metadata": {},
   "source": [
    "- **Overfitting occurs when a statistical model or machine learning algorithm captures the noise of the data.**  \n",
    "- Intuitively, overfitting occurs when the model or the algorithm fits the data too well.  \n",
    "- Specifically, overfitting occurs if the model or algorithm shows low bias but high variance.  \n",
    "\n",
    "Overfitting is often a result of an excessively complicated model. If features are not filtered and explored up front, some of them can be more destructive than helpful, repeat information that already expressed by other features, and/or add high noise to the dataset."
   ]
  },
  {
   "cell_type": "markdown",
   "metadata": {},
   "source": [
    "#### A visual example:"
   ]
  },
  {
   "cell_type": "markdown",
   "metadata": {},
   "source": [
    "<img src='https://codingstartups.com/wp-content/uploads/2017/08/overfit.png' width='800'/>"
   ]
  },
  {
   "cell_type": "markdown",
   "metadata": {},
   "source": [
    "- Both overfitting and underfitting lead to poor predictions on new data sets."
   ]
  },
  {
   "cell_type": "markdown",
   "metadata": {},
   "source": [
    "---"
   ]
  },
  {
   "cell_type": "markdown",
   "metadata": {},
   "source": [
    "#### The Bias Variance Trade-off"
   ]
  },
  {
   "cell_type": "markdown",
   "metadata": {},
   "source": [
    "**Bias:**\n",
    "\n",
    "- The bias error is an error from erroneous assumptions in the learning algorithm. \n",
    "- High bias can cause an algorithm to miss the relevant relationship between features and target outputs (underfitting).\n",
    "\n",
    "    - Suppose your machine learning model is performing very badly on a set of data because it is not generalizing to all your data points. This phenomenon occurs when the model is underfit and your model can be interpreted as having **high bias**.\n",
    "\n",
    "**Variance:**\n",
    "\n",
    "- The variance is an error from sensitivity to small fluctuations in the training set. \n",
    "- High variance can cause an algorithm to model the random noise in the training data, rather than the intended outputs (overfitting).\n",
    "\n",
    "    - Suppose your machine learning model tries to account for all or mostly all points in a dataset successfully. If it then performs poorly when run on other test data sets, it is said to have high variance. **High variance** occurs when the model is overfit."
   ]
  },
  {
   "cell_type": "markdown",
   "metadata": {},
   "source": [
    "The goal of any supervised machine learning algorithm is to achieve low bias and low variance. In turn, the algorithm should achieve good prediction performance.\n",
    "\n",
    "- Increasing the bias will decrease the variance.\n",
    "- Increasing the variance will decrease the bias.\n",
    "\n",
    "If our model is too simple and has very few parameters then it may have high bias and low variance. On the other hand if our model has large number of parameters then it’s going to have high variance and low bias. So we need to find the right/good balance without overfitting and underfitting the data."
   ]
  },
  {
   "cell_type": "markdown",
   "metadata": {},
   "source": [
    "<img src='https://res.cloudinary.com/dyd911kmh/image/upload/f_auto,q_auto:best/v1543418451/tradeoff_sevifm.png' width='600' />"
   ]
  },
  {
   "cell_type": "markdown",
   "metadata": {},
   "source": [
    "Most of the time, we'll only have to deal with the overfitting. One of the most common techniques for managing the problem of overfitting is called **regularization**. \n",
    "\n",
    "As the model complexity increases, which in the case of linear regression can be thought of as the number of predictors, the model's variance increases and the bias decreases. The unbiased OLS would place us on the right-hand side of the picture, which is far from optimal. That's why we regularize: to lower the variance at the cost of some bias, thus moving left on the plot, towards the optimum."
   ]
  },
  {
   "cell_type": "markdown",
   "metadata": {},
   "source": [
    "---"
   ]
  },
  {
   "cell_type": "markdown",
   "metadata": {},
   "source": [
    "# Ridge and Lasso Regression\n",
    "\n"
   ]
  },
  {
   "cell_type": "markdown",
   "metadata": {},
   "source": [
    "We'll get some practice with regularization in a bit. \n",
    "\n",
    "First, let's get a better understanding behind what happens when we apply some regularization. "
   ]
  },
  {
   "cell_type": "markdown",
   "metadata": {},
   "source": [
    "## Regularizing a Model\n",
    "\n",
    "\n",
    ">***“Everything should be made simple as possible, but not simpler\"***\n",
    "    \n",
    "    – Albert Einstein"
   ]
  },
  {
   "cell_type": "markdown",
   "metadata": {},
   "source": [
    "Even though Lasso and Ridge are only used in regression, regularizing a model is a common procedure in the process of building machine learning models. It is an effective procedure for tackling the problem of overfitting. \n",
    "\n",
    "- Generally speaking, applying regularization technique introduces some **bias** to the model, but reduces the **variance**, and therefore results in better performance with future testing data. "
   ]
  },
  {
   "cell_type": "markdown",
   "metadata": {},
   "source": [
    "#### What is regularization in the context of regression? \n",
    "\n",
    "We can recall: \n",
    "- As the complexity of model increases, the model overfits and performance on the testing set decreases. \n",
    "\n",
    "Regularization techniques *shrink* the regression coefficients such that the coefficients are not affecting the outcomes as much as they originally would have. In other words, using regularization applies a *penalty* term to the coefficients of your regression model. Let's see how exactly Ridge regression and Lasso regression work to reduce variances in regression models and result in better fit. "
   ]
  },
  {
   "cell_type": "markdown",
   "metadata": {},
   "source": [
    "### Revisiting the Cost Function"
   ]
  },
  {
   "cell_type": "markdown",
   "metadata": {},
   "source": [
    "Before we dive into regularization, let's (re)visit a concept called **Cost Function**. A cost function is a measure of how good or bad the model is at estimating the relationship of our $X$ and $y$ variables. Usually, it is expressed in the difference between actual values and predicted values. For simple linear regression, the cost function is represented as:\n",
    "<center> $$ \\text{cost_function}= \\sum_{i=1}^n(y_i - \\hat{y})^2 = \\sum_{i=1}^n(y_i -  bx + b_0)^2$$\n"
   ]
  },
  {
   "cell_type": "markdown",
   "metadata": {},
   "source": [
    "For linear regression with multiple predictors, the cost function is expressed as so: \n",
    "- $k$ stands for number of predictors at $j$th term\n",
    "\n",
    "$$ \\text{cost_function}= \\sum_{i=1}^n(y_i - \\hat{y})^2 = \\sum_{i=1}^n(y_i - \\sum_{j=1}^k(m_jx_{ij}) + b)^2$$"
   ]
  },
  {
   "cell_type": "markdown",
   "metadata": {},
   "source": [
    "A regularized machine learning model has a cost function that contains a penalty term, which should be minimized as well."
   ]
  },
  {
   "cell_type": "markdown",
   "metadata": {},
   "source": [
    "## Ridge Regression (L2 Norm)"
   ]
  },
  {
   "cell_type": "markdown",
   "metadata": {},
   "source": [
    "The ridge regression applies a penalizing parameter $\\lambda$ *slope*$^2$, such that a small bias will be introduced to the entire model depending on the value of $\\lambda$, which is called a ***hyperparameter***. We'll discuss hyperparameters in upcoming lessons, but for now let's look at the cost function equation:\n",
    "\n",
    "$$ \\text{cost_function_ridge}= \\sum_{i=1}^n(y_i - \\hat{y})^2 + \\lambda \\sum_{j=1}^p m_j^2$$\n",
    "$$ = \\sum_{i=1}^n(y_i - \\sum_{j=1}^k(m_jx_{ij} + b))^2 + \\lambda \\sum_{j=1}^p m_j^2$$\n",
    "\n",
    "- the *slope*$^2$ portion of the equation adds a penalty to the traditional least squares method\n",
    "- the $\\lambda$ portion of the equation is determines how severe the penalty is\n"
   ]
  },
  {
   "cell_type": "markdown",
   "metadata": {},
   "source": [
    "The L2 term is equal to the square of the magnitude for all of the coefficients from original regression, except for the intercept term. In this case, if $\\lambda$ is zero then the equation is the basic OLS, but if it is greater than zero we add a constraint to the coefficients. \n",
    "\n",
    "\n",
    "Ridge regression improves the fit of the original regression line by introducing some bias - aka: changing the slope and intercept of the original line. Recall the way we interpret a regression model $y = mx + b$: with every unit increase in $x$, the outcome $y$ increase by $m$ unit. Therefore, the bigger the coefficient $m$ is, the more the outcome is subjected to changes in predictor $x$. \n",
    "\n",
    "Ridge regression works by reducing the magnitude of the coefficient $m$ and therefore reducing the effect the predictors have on the outcome. Shrinking the coefficients leads to a lower variance and in turn a lower error value. A super important fact we need to notice about ridge regression is that it enforces the coefficients to be lower, but it does not enforce them to be zero. That is, it will not get rid of irrelevant features but rather minimize their impact on the trained model. Therefore, Ridge regression decreases the complexity of a model but does not reduce the number of variables, rather it just shrinks their effect."
   ]
  },
  {
   "cell_type": "markdown",
   "metadata": {},
   "source": [
    "## Lasso Regression (L1 Norm)\n",
    "Lasso regression is very similar to Ridge regression. The single difference is that the penalty term is not squared. Instead, the penalty term is the absolute values of the coefficients multiplied by lambda, expressed as:\n",
    "\n",
    "$$ \\text{cost_function_lasso}= \\sum_{i=1}^n(y_i - \\hat{y})^2 + \\lambda \\sum_{j=1}^p \\mid m_j \\mid$$ \n",
    "$$ = \\sum_{i=1}^n(y_i - \\sum_{j=1}^k(m_jx_{ij} + b))^2 + \\lambda \\sum_{j=1}^p \\mid m_j \\mid$$\n",
    "\n",
    "The biggest difference between Ridge and Lasso performance is that Lasso simultaneously performs variable selection: some coefficients are shrunk to 0, rendering them nonexistent from the original regression model. Therefore, Lasso regression performs very well when you have higher dimensional dataset where some predictors are useless; whereas Ridge works best when all the predictors are needed."
   ]
  },
  {
   "cell_type": "markdown",
   "metadata": {},
   "source": [
    "## Questions to ponder:\n",
    "\n",
    "* When should you use a regularized model instead of a normal model?\n",
    "\n",
    "* How do regularized models differ from normal linear regression?\n",
    "\n",
    "* How does a Ridge model differ from a Lasso Model?"
   ]
  },
  {
   "cell_type": "markdown",
   "metadata": {},
   "source": [
    "<img src=\"https://media.giphy.com/media/AWeYSE0qgpk76/giphy.gif\" width= \"400\" />"
   ]
  },
  {
   "cell_type": "markdown",
   "metadata": {},
   "source": [
    "---"
   ]
  },
  {
   "cell_type": "markdown",
   "metadata": {},
   "source": [
    "## A short exercise:"
   ]
  },
  {
   "cell_type": "markdown",
   "metadata": {},
   "source": [
    "Take a moment to think of any possible features that the sales of a store might be dependent on. For each feature, hypothesize about why and how that feature would influence the sales of various products. For example, I might expect the sales of products to depend on the location of the store, because the local residents in each area would have different lifestyle. The amount of bread a store will sell in a small store in Montana would probably be a fraction of similar store in New York City.\n",
    "\n",
    "This could include things like location of your shop, availability of the products, size of the shop, offers on the product, advertising done by a product, and placement within the store."
   ]
  },
  {
   "cell_type": "markdown",
   "metadata": {},
   "source": [
    "From all of the features we thought of, let's suppose 10 of those possible features are categorical, each having 10+ categories per feature. When we transform those categorical features into dummies, we'd have a lot more features than when we started! Without any domain knowledge, how will we know which features are good predictors vs. those that aren't?"
   ]
  },
  {
   "cell_type": "markdown",
   "metadata": {},
   "source": [
    "---"
   ]
  },
  {
   "cell_type": "markdown",
   "metadata": {},
   "source": [
    "With that thought in mind, we'll take a look at [The Big Mart Sales dataset](https://www.kaggle.com/brijbhushannanda1979/bigmart-sales-data). In this data, we have product wise sales for multiple outlets of a chain."
   ]
  },
  {
   "cell_type": "markdown",
   "metadata": {},
   "source": [
    "### Import ze libraries... then fire ze missiles! "
   ]
  },
  {
   "cell_type": "markdown",
   "metadata": {},
   "source": [
    "<img src='https://i.ytimg.com/vi/kCpjgl2baLs/hqdefault.jpg' width=400 />"
   ]
  },
  {
   "cell_type": "code",
   "execution_count": 1,
   "metadata": {},
   "outputs": [],
   "source": [
    "from sklearn import metrics\n",
    "from sklearn.preprocessing import MinMaxScaler, StandardScaler, PolynomialFeatures\n",
    "from sklearn.linear_model import LinearRegression, Ridge, Lasso\n",
    "from sklearn.model_selection import train_test_split, cross_val_score\n",
    "from sklearn.feature_selection import SelectKBest, f_regression, RFECV\n",
    "\n",
    "import pandas as pd\n",
    "import numpy as np\n",
    "import matplotlib.pyplot as plt\n",
    "pd.set_option('display.max_columns', 200)"
   ]
  },
  {
   "cell_type": "code",
   "execution_count": 2,
   "metadata": {},
   "outputs": [
    {
     "data": {
      "text/html": [
       "<div>\n",
       "<style scoped>\n",
       "    .dataframe tbody tr th:only-of-type {\n",
       "        vertical-align: middle;\n",
       "    }\n",
       "\n",
       "    .dataframe tbody tr th {\n",
       "        vertical-align: top;\n",
       "    }\n",
       "\n",
       "    .dataframe thead th {\n",
       "        text-align: right;\n",
       "    }\n",
       "</style>\n",
       "<table border=\"1\" class=\"dataframe\">\n",
       "  <thead>\n",
       "    <tr style=\"text-align: right;\">\n",
       "      <th></th>\n",
       "      <th>Item_Identifier</th>\n",
       "      <th>Item_Weight</th>\n",
       "      <th>Item_Fat_Content</th>\n",
       "      <th>Item_Visibility</th>\n",
       "      <th>Item_Type</th>\n",
       "      <th>Item_MRP</th>\n",
       "      <th>Outlet_Identifier</th>\n",
       "      <th>Outlet_Establishment_Year</th>\n",
       "      <th>Outlet_Size</th>\n",
       "      <th>Outlet_Location_Type</th>\n",
       "      <th>Outlet_Type</th>\n",
       "      <th>Item_Outlet_Sales</th>\n",
       "    </tr>\n",
       "  </thead>\n",
       "  <tbody>\n",
       "    <tr>\n",
       "      <th>0</th>\n",
       "      <td>FDA15</td>\n",
       "      <td>9.30</td>\n",
       "      <td>Low Fat</td>\n",
       "      <td>0.016047</td>\n",
       "      <td>Dairy</td>\n",
       "      <td>249.8092</td>\n",
       "      <td>OUT049</td>\n",
       "      <td>1999</td>\n",
       "      <td>Medium</td>\n",
       "      <td>Tier 1</td>\n",
       "      <td>Supermarket Type1</td>\n",
       "      <td>3735.1380</td>\n",
       "    </tr>\n",
       "    <tr>\n",
       "      <th>1</th>\n",
       "      <td>DRC01</td>\n",
       "      <td>5.92</td>\n",
       "      <td>Regular</td>\n",
       "      <td>0.019278</td>\n",
       "      <td>Soft Drinks</td>\n",
       "      <td>48.2692</td>\n",
       "      <td>OUT018</td>\n",
       "      <td>2009</td>\n",
       "      <td>Medium</td>\n",
       "      <td>Tier 3</td>\n",
       "      <td>Supermarket Type2</td>\n",
       "      <td>443.4228</td>\n",
       "    </tr>\n",
       "    <tr>\n",
       "      <th>2</th>\n",
       "      <td>FDN15</td>\n",
       "      <td>17.50</td>\n",
       "      <td>Low Fat</td>\n",
       "      <td>0.016760</td>\n",
       "      <td>Meat</td>\n",
       "      <td>141.6180</td>\n",
       "      <td>OUT049</td>\n",
       "      <td>1999</td>\n",
       "      <td>Medium</td>\n",
       "      <td>Tier 1</td>\n",
       "      <td>Supermarket Type1</td>\n",
       "      <td>2097.2700</td>\n",
       "    </tr>\n",
       "    <tr>\n",
       "      <th>3</th>\n",
       "      <td>FDX07</td>\n",
       "      <td>19.20</td>\n",
       "      <td>Regular</td>\n",
       "      <td>0.000000</td>\n",
       "      <td>Fruits and Vegetables</td>\n",
       "      <td>182.0950</td>\n",
       "      <td>OUT010</td>\n",
       "      <td>1998</td>\n",
       "      <td>NaN</td>\n",
       "      <td>Tier 3</td>\n",
       "      <td>Grocery Store</td>\n",
       "      <td>732.3800</td>\n",
       "    </tr>\n",
       "    <tr>\n",
       "      <th>4</th>\n",
       "      <td>NCD19</td>\n",
       "      <td>8.93</td>\n",
       "      <td>Low Fat</td>\n",
       "      <td>0.000000</td>\n",
       "      <td>Household</td>\n",
       "      <td>53.8614</td>\n",
       "      <td>OUT013</td>\n",
       "      <td>1987</td>\n",
       "      <td>High</td>\n",
       "      <td>Tier 3</td>\n",
       "      <td>Supermarket Type1</td>\n",
       "      <td>994.7052</td>\n",
       "    </tr>\n",
       "  </tbody>\n",
       "</table>\n",
       "</div>"
      ],
      "text/plain": [
       "  Item_Identifier  Item_Weight Item_Fat_Content  Item_Visibility  \\\n",
       "0           FDA15         9.30          Low Fat         0.016047   \n",
       "1           DRC01         5.92          Regular         0.019278   \n",
       "2           FDN15        17.50          Low Fat         0.016760   \n",
       "3           FDX07        19.20          Regular         0.000000   \n",
       "4           NCD19         8.93          Low Fat         0.000000   \n",
       "\n",
       "               Item_Type  Item_MRP Outlet_Identifier  \\\n",
       "0                  Dairy  249.8092            OUT049   \n",
       "1            Soft Drinks   48.2692            OUT018   \n",
       "2                   Meat  141.6180            OUT049   \n",
       "3  Fruits and Vegetables  182.0950            OUT010   \n",
       "4              Household   53.8614            OUT013   \n",
       "\n",
       "   Outlet_Establishment_Year Outlet_Size Outlet_Location_Type  \\\n",
       "0                       1999      Medium               Tier 1   \n",
       "1                       2009      Medium               Tier 3   \n",
       "2                       1999      Medium               Tier 1   \n",
       "3                       1998         NaN               Tier 3   \n",
       "4                       1987        High               Tier 3   \n",
       "\n",
       "         Outlet_Type  Item_Outlet_Sales  \n",
       "0  Supermarket Type1          3735.1380  \n",
       "1  Supermarket Type2           443.4228  \n",
       "2  Supermarket Type1          2097.2700  \n",
       "3      Grocery Store           732.3800  \n",
       "4  Supermarket Type1           994.7052  "
      ]
     },
     "execution_count": 2,
     "metadata": {},
     "output_type": "execute_result"
    }
   ],
   "source": [
    "df = pd.read_csv('bigmart_data_Train.csv')\n",
    "df.head()"
   ]
  },
  {
   "cell_type": "markdown",
   "metadata": {},
   "source": [
    "In this dataset we can see some of the characteristics of items, the item's outlet, and the number of times that particular item sold. Let’s try to predict sales using these features."
   ]
  },
  {
   "cell_type": "markdown",
   "metadata": {},
   "source": [
    "### Implementing L1 & L2 regularization in code:"
   ]
  },
  {
   "cell_type": "markdown",
   "metadata": {},
   "source": [
    "In this code along, we'll perform linear, ridge, and lasso regressions. Then we'll compare the results."
   ]
  },
  {
   "cell_type": "code",
   "execution_count": 3,
   "metadata": {},
   "outputs": [],
   "source": [
    "# df.info()"
   ]
  },
  {
   "cell_type": "code",
   "execution_count": 4,
   "metadata": {},
   "outputs": [],
   "source": [
    "# Change type to object for categorical variable\n",
    "\n",
    "df.Outlet_Establishment_Year = df.Outlet_Establishment_Year.astype(object)"
   ]
  },
  {
   "cell_type": "code",
   "execution_count": 5,
   "metadata": {},
   "outputs": [],
   "source": [
    "# We saw in df.info() that two features had NaNs\n",
    "# Imputing missing values:\n",
    "\n",
    "df['Item_Weight'].fillna(df['Item_Weight'].mean(), inplace=True)\n",
    "\n",
    "df['Outlet_Size'].fillna('Small', inplace=True)"
   ]
  },
  {
   "cell_type": "code",
   "execution_count": 6,
   "metadata": {},
   "outputs": [],
   "source": [
    "# Creating dummy variables from categorical\n",
    "\n",
    "mylist = list(df.select_dtypes(include=['object']).columns)\n",
    "dummies = pd.get_dummies(df[mylist], prefix=mylist, drop_first=True)\n",
    "\n",
    "df.drop(mylist, axis=1, inplace=True)\n",
    "X = pd.concat([df,dummies], axis=1)\n",
    "X.drop(columns=['Item_Outlet_Sales'], inplace=True)\n",
    "\n",
    "y = df.Item_Outlet_Sales"
   ]
  },
  {
   "cell_type": "code",
   "execution_count": 7,
   "metadata": {},
   "outputs": [],
   "source": [
    "# X.head()"
   ]
  },
  {
   "cell_type": "code",
   "execution_count": 8,
   "metadata": {},
   "outputs": [],
   "source": [
    "# X.columns"
   ]
  },
  {
   "cell_type": "code",
   "execution_count": 9,
   "metadata": {},
   "outputs": [],
   "source": [
    "# Train, test, split:\n",
    "X_train, X_test, y_train, y_test = train_test_split(X, y, test_size=.2, random_state=39)"
   ]
  },
  {
   "cell_type": "code",
   "execution_count": 10,
   "metadata": {},
   "outputs": [
    {
     "data": {
      "text/plain": [
       "LinearRegression(copy_X=True, fit_intercept=True, n_jobs=None,\n",
       "         normalize=False)"
      ]
     },
     "execution_count": 10,
     "metadata": {},
     "output_type": "execute_result"
    }
   ],
   "source": [
    "# Instantiate and fit linear regression model\n",
    "\n",
    "lreg = LinearRegression()\n",
    "lreg.fit(X_train, y_train)"
   ]
  },
  {
   "cell_type": "code",
   "execution_count": 11,
   "metadata": {},
   "outputs": [
    {
     "data": {
      "text/plain": [
       "Ridge(alpha=1.0, copy_X=True, fit_intercept=True, max_iter=None,\n",
       "   normalize=False, random_state=None, solver='auto', tol=0.001)"
      ]
     },
     "execution_count": 11,
     "metadata": {},
     "output_type": "execute_result"
    }
   ],
   "source": [
    "# Instantiate and fit Ridge regression model\n",
    "# Note: in scikit learn the regularization parameter is denoted by alpha (and not lambda)\n",
    "\n",
    "ridge = Ridge()\n",
    "ridge.fit(X_train, y_train)"
   ]
  },
  {
   "cell_type": "code",
   "execution_count": 12,
   "metadata": {},
   "outputs": [
    {
     "data": {
      "text/plain": [
       "Lasso(alpha=1.0, copy_X=True, fit_intercept=True, max_iter=1000,\n",
       "   normalize=False, positive=False, precompute=False, random_state=None,\n",
       "   selection='cyclic', tol=0.0001, warm_start=False)"
      ]
     },
     "execution_count": 12,
     "metadata": {},
     "output_type": "execute_result"
    }
   ],
   "source": [
    "# Instantiate and fit Lasso regression model\n",
    "# Note: in scikit learn the regularization parameter is denoted by alpha (and not lambda)\n",
    "\n",
    "lasso = Lasso()\n",
    "lasso.fit(X_train, y_train)"
   ]
  },
  {
   "cell_type": "code",
   "execution_count": 13,
   "metadata": {},
   "outputs": [],
   "source": [
    "# Make Linear regression predictions and calculate RMSE\n",
    "y_pred_lreg = lreg.predict(X_test)\n",
    "lreg_rmse = np.sqrt(metrics.mean_squared_error(y_test, y_pred_lreg))\n",
    "\n",
    "# Make Ridge regression predictions and calculate RMSE\n",
    "y_pred_ridge = ridge.predict(X_test)\n",
    "ridge_rmse = np.sqrt(metrics.mean_squared_error(y_test, y_pred_ridge))\n",
    "\n",
    "# Make Lasso regression predictions and calculate RMSE\n",
    "y_pred_lasso = lasso.predict(X_test)\n",
    "lasso_rmse = np.sqrt(metrics.mean_squared_error(y_test, y_pred_lasso))"
   ]
  },
  {
   "cell_type": "code",
   "execution_count": 14,
   "metadata": {},
   "outputs": [
    {
     "name": "stdout",
     "output_type": "stream",
     "text": [
      "Linear Regression RMSE is: 1302.6277312861903\n",
      "\n",
      "Ridge Regression  RMSE is: 1216.7467611665852\n",
      "\n",
      "Lasso Regression  RMSE is: 1120.192959285349\n"
     ]
    }
   ],
   "source": [
    "print(\"Linear Regression RMSE is: {}\".format(lreg_rmse))\n",
    "print() # print a condensed new line\n",
    "\n",
    "print(\"Ridge Regression  RMSE is: {}\".format(ridge_rmse))\n",
    "print() # print a condensed new line\n",
    "\n",
    "print(\"Lasso Regression  RMSE is: {}\".format(lasso_rmse))"
   ]
  },
  {
   "cell_type": "markdown",
   "metadata": {},
   "source": [
    "Pretty cool stuff! As we can see above, both regularized models performed better than basic linear regression, with Lasso out performing Ridge in this situation."
   ]
  },
  {
   "cell_type": "code",
   "execution_count": 15,
   "metadata": {},
   "outputs": [],
   "source": [
    "columns =  X.columns"
   ]
  },
  {
   "cell_type": "code",
   "execution_count": 16,
   "metadata": {},
   "outputs": [
    {
     "data": {
      "image/png": "[encoded data removed]",
      "text/plain": [
       "<Figure size 1152x576 with 1 Axes>"
      ]
     },
     "metadata": {
      "needs_background": "light"
     },
     "output_type": "display_data"
    }
   ],
   "source": [
    "lreg_coef_ = pd.DataFrame(data=lreg.coef_ ).T\n",
    "lreg_coef_.columns = columns\n",
    "\n",
    "lreg_coef = lreg_coef_.T.sort_values(by=0).T\n",
    "lreg_coef.plot(kind='bar', title='Linear Regression Coefficients',\n",
    "               legend=False, figsize=(16,8));"
   ]
  },
  {
   "cell_type": "code",
   "execution_count": 17,
   "metadata": {},
   "outputs": [
    {
     "data": {
      "image/png": "[encoded data removed]",
      "text/plain": [
       "<Figure size 1152x576 with 1 Axes>"
      ]
     },
     "metadata": {
      "needs_background": "light"
     },
     "output_type": "display_data"
    }
   ],
   "source": [
    "ridge_coef_ = pd.DataFrame(data=ridge.coef_ ).T\n",
    "ridge_coef_.columns = columns\n",
    "\n",
    "ridge_coef = ridge_coef_.T.sort_values(by=0).T\n",
    "ridge_coef.plot(kind='bar', title='Ridge Regression Coefficients',\n",
    "               legend=False, figsize=(16,8));"
   ]
  },
  {
   "cell_type": "code",
   "execution_count": 18,
   "metadata": {},
   "outputs": [
    {
     "data": {
      "image/png": "[encoded data removed]",
      "text/plain": [
       "<Figure size 1152x576 with 1 Axes>"
      ]
     },
     "metadata": {
      "needs_background": "light"
     },
     "output_type": "display_data"
    }
   ],
   "source": [
    "lasso_coef_ = pd.DataFrame(data=lasso.coef_ ).T\n",
    "lasso_coef_.columns = columns\n",
    "\n",
    "lasso_coef = lasso_coef_.T.sort_values(by=0).T\n",
    "lasso_coef.plot(kind='bar', title='Lasso Regression Coefficients',\n",
    "               legend=False, figsize=(16,8));"
   ]
  },
  {
   "cell_type": "markdown",
   "metadata": {},
   "source": [
    "As we can see in the plots above, the Ridge and Lasso models have diminished the coefficients. If you're having a hard time visually seeing the difference between Ridge and regular Linear Regression, be sure to check out the y-axis!"
   ]
  },
  {
   "cell_type": "markdown",
   "metadata": {},
   "source": [
    "#### Let's take a look at the first eight coefficients for each model:"
   ]
  },
  {
   "cell_type": "code",
   "execution_count": 19,
   "metadata": {
    "scrolled": true
   },
   "outputs": [
    {
     "data": {
      "text/plain": [
       "array([    1.83578942,  -483.14617796,    -1.34983266,   378.91853684,\n",
       "         799.20387636, -1251.43404855,   583.32717542,  1158.77333212])"
      ]
     },
     "execution_count": 19,
     "metadata": {},
     "output_type": "execute_result"
    }
   ],
   "source": [
    "# The first eight linear regression coefficients \n",
    "\n",
    "lreg.coef_[:8]"
   ]
  },
  {
   "cell_type": "code",
   "execution_count": 20,
   "metadata": {},
   "outputs": [
    {
     "data": {
      "text/plain": [
       "array([ 1.38172517e+00, -4.08217849e+02,  1.55353704e+01, -1.39193109e+02,\n",
       "       -8.37878558e+01, -1.49380599e+03, -3.12888219e+02,  5.95512230e+02])"
      ]
     },
     "execution_count": 20,
     "metadata": {},
     "output_type": "execute_result"
    }
   ],
   "source": [
    "# We can see here that Ridge has diminished some of the coefficients\n",
    "\n",
    "ridge.coef_[:8]"
   ]
  },
  {
   "cell_type": "code",
   "execution_count": 21,
   "metadata": {},
   "outputs": [
    {
     "data": {
      "text/plain": [
       "array([  0.23986334, -69.67361159,  15.42843802,  -0.        ,\n",
       "        -0.        ,  -0.        ,  -0.        ,   0.        ])"
      ]
     },
     "execution_count": 21,
     "metadata": {},
     "output_type": "execute_result"
    }
   ],
   "source": [
    "# We can see here that Lasso has acted accordingly and pushed some coefficients to zero\n",
    "\n",
    "lasso.coef_[:8]"
   ]
  },
  {
   "cell_type": "markdown",
   "metadata": {},
   "source": [
    "#### Let's check out the Lasso coefficients that have not been pushed to zero:"
   ]
  },
  {
   "cell_type": "code",
   "execution_count": 67,
   "metadata": {},
   "outputs": [
    {
     "data": {
      "text/html": [
       "<div>\n",
       "<style scoped>\n",
       "    .dataframe tbody tr th:only-of-type {\n",
       "        vertical-align: middle;\n",
       "    }\n",
       "\n",
       "    .dataframe tbody tr th {\n",
       "        vertical-align: top;\n",
       "    }\n",
       "\n",
       "    .dataframe thead th {\n",
       "        text-align: right;\n",
       "    }\n",
       "</style>\n",
       "<table border=\"1\" class=\"dataframe\">\n",
       "  <thead>\n",
       "    <tr style=\"text-align: right;\">\n",
       "      <th></th>\n",
       "      <th>LASSO_nonzero_coeffs</th>\n",
       "    </tr>\n",
       "  </thead>\n",
       "  <tbody>\n",
       "    <tr>\n",
       "      <th>Outlet_Establishment_Year_1998</th>\n",
       "      <td>-1468.528242</td>\n",
       "    </tr>\n",
       "    <tr>\n",
       "      <th>Outlet_Identifier_OUT019</th>\n",
       "      <td>-1457.209974</td>\n",
       "    </tr>\n",
       "    <tr>\n",
       "      <th>Item_Identifier_NCH43</th>\n",
       "      <td>-306.914663</td>\n",
       "    </tr>\n",
       "    <tr>\n",
       "      <th>Item_Identifier_FDP28</th>\n",
       "      <td>-222.548895</td>\n",
       "    </tr>\n",
       "    <tr>\n",
       "      <th>Item_Identifier_NCB31</th>\n",
       "      <td>-202.017058</td>\n",
       "    </tr>\n",
       "    <tr>\n",
       "      <th>Item_Identifier_NCI30</th>\n",
       "      <td>-113.056495</td>\n",
       "    </tr>\n",
       "    <tr>\n",
       "      <th>Outlet_Identifier_OUT045</th>\n",
       "      <td>-90.132994</td>\n",
       "    </tr>\n",
       "    <tr>\n",
       "      <th>Item_Identifier_FDS27</th>\n",
       "      <td>-87.875586</td>\n",
       "    </tr>\n",
       "    <tr>\n",
       "      <th>Item_Identifier_FDV04</th>\n",
       "      <td>-81.041772</td>\n",
       "    </tr>\n",
       "    <tr>\n",
       "      <th>Item_Identifier_FDU12</th>\n",
       "      <td>-69.866234</td>\n",
       "    </tr>\n",
       "    <tr>\n",
       "      <th>Item_Visibility</th>\n",
       "      <td>-69.673612</td>\n",
       "    </tr>\n",
       "    <tr>\n",
       "      <th>Item_Type_Dairy</th>\n",
       "      <td>-47.160886</td>\n",
       "    </tr>\n",
       "    <tr>\n",
       "      <th>Outlet_Size_Small</th>\n",
       "      <td>-38.745886</td>\n",
       "    </tr>\n",
       "    <tr>\n",
       "      <th>Outlet_Establishment_Year_2002</th>\n",
       "      <td>-14.687547</td>\n",
       "    </tr>\n",
       "    <tr>\n",
       "      <th>Item_Fat_Content_Low Fat</th>\n",
       "      <td>-11.311362</td>\n",
       "    </tr>\n",
       "    <tr>\n",
       "      <th>Item_Identifier_NCH06</th>\n",
       "      <td>-8.918649</td>\n",
       "    </tr>\n",
       "    <tr>\n",
       "      <th>Item_Identifier_FDI46</th>\n",
       "      <td>-6.456156</td>\n",
       "    </tr>\n",
       "    <tr>\n",
       "      <th>Item_Weight</th>\n",
       "      <td>0.239863</td>\n",
       "    </tr>\n",
       "    <tr>\n",
       "      <th>Outlet_Establishment_Year_2004</th>\n",
       "      <td>0.736956</td>\n",
       "    </tr>\n",
       "    <tr>\n",
       "      <th>Item_Type_Snack Foods</th>\n",
       "      <td>2.043039</td>\n",
       "    </tr>\n",
       "    <tr>\n",
       "      <th>Outlet_Establishment_Year_2007</th>\n",
       "      <td>6.684925</td>\n",
       "    </tr>\n",
       "    <tr>\n",
       "      <th>Item_Identifier_FDW56</th>\n",
       "      <td>12.028570</td>\n",
       "    </tr>\n",
       "    <tr>\n",
       "      <th>Item_Type_Soft Drinks</th>\n",
       "      <td>13.517640</td>\n",
       "    </tr>\n",
       "    <tr>\n",
       "      <th>Item_MRP</th>\n",
       "      <td>15.428438</td>\n",
       "    </tr>\n",
       "    <tr>\n",
       "      <th>Item_Type_Canned</th>\n",
       "      <td>18.937898</td>\n",
       "    </tr>\n",
       "    <tr>\n",
       "      <th>Outlet_Identifier_OUT017</th>\n",
       "      <td>22.449544</td>\n",
       "    </tr>\n",
       "    <tr>\n",
       "      <th>Item_Type_Fruits and Vegetables</th>\n",
       "      <td>23.295160</td>\n",
       "    </tr>\n",
       "    <tr>\n",
       "      <th>Item_Identifier_FDC46</th>\n",
       "      <td>31.051359</td>\n",
       "    </tr>\n",
       "    <tr>\n",
       "      <th>Item_Fat_Content_Regular</th>\n",
       "      <td>34.204013</td>\n",
       "    </tr>\n",
       "    <tr>\n",
       "      <th>Outlet_Identifier_OUT035</th>\n",
       "      <td>48.897625</td>\n",
       "    </tr>\n",
       "    <tr>\n",
       "      <th>Item_Fat_Content_low fat</th>\n",
       "      <td>62.203646</td>\n",
       "    </tr>\n",
       "    <tr>\n",
       "      <th>Item_Identifier_NCZ54</th>\n",
       "      <td>78.820840</td>\n",
       "    </tr>\n",
       "    <tr>\n",
       "      <th>Item_Identifier_FDJ21</th>\n",
       "      <td>82.391350</td>\n",
       "    </tr>\n",
       "    <tr>\n",
       "      <th>Outlet_Location_Type_Tier 2</th>\n",
       "      <td>88.605757</td>\n",
       "    </tr>\n",
       "    <tr>\n",
       "      <th>Item_Identifier_DRK23</th>\n",
       "      <td>90.431714</td>\n",
       "    </tr>\n",
       "    <tr>\n",
       "      <th>Outlet_Size_Medium</th>\n",
       "      <td>100.798859</td>\n",
       "    </tr>\n",
       "    <tr>\n",
       "      <th>Outlet_Type_Supermarket Type3</th>\n",
       "      <td>134.789322</td>\n",
       "    </tr>\n",
       "    <tr>\n",
       "      <th>Item_Identifier_FDR45</th>\n",
       "      <td>164.072930</td>\n",
       "    </tr>\n",
       "    <tr>\n",
       "      <th>Item_Identifier_FDR35</th>\n",
       "      <td>202.193704</td>\n",
       "    </tr>\n",
       "    <tr>\n",
       "      <th>Item_Identifier_FDI50</th>\n",
       "      <td>210.209733</td>\n",
       "    </tr>\n",
       "    <tr>\n",
       "      <th>Item_Identifier_FDD44</th>\n",
       "      <td>233.431836</td>\n",
       "    </tr>\n",
       "    <tr>\n",
       "      <th>Item_Identifier_FDU55</th>\n",
       "      <td>234.014284</td>\n",
       "    </tr>\n",
       "    <tr>\n",
       "      <th>Item_Identifier_FDK03</th>\n",
       "      <td>243.590604</td>\n",
       "    </tr>\n",
       "    <tr>\n",
       "      <th>Item_Type_Seafood</th>\n",
       "      <td>254.605017</td>\n",
       "    </tr>\n",
       "    <tr>\n",
       "      <th>Item_Identifier_FDA15</th>\n",
       "      <td>266.072536</td>\n",
       "    </tr>\n",
       "    <tr>\n",
       "      <th>Item_Identifier_FDC17</th>\n",
       "      <td>324.742041</td>\n",
       "    </tr>\n",
       "    <tr>\n",
       "      <th>Outlet_Type_Supermarket Type1</th>\n",
       "      <td>408.327971</td>\n",
       "    </tr>\n",
       "    <tr>\n",
       "      <th>Item_Identifier_DRF36</th>\n",
       "      <td>445.662266</td>\n",
       "    </tr>\n",
       "    <tr>\n",
       "      <th>Item_Identifier_FDY25</th>\n",
       "      <td>504.574982</td>\n",
       "    </tr>\n",
       "    <tr>\n",
       "      <th>Item_Identifier_FDQ37</th>\n",
       "      <td>515.544517</td>\n",
       "    </tr>\n",
       "    <tr>\n",
       "      <th>Item_Identifier_NCE42</th>\n",
       "      <td>598.063555</td>\n",
       "    </tr>\n",
       "    <tr>\n",
       "      <th>Item_Identifier_FDZ20</th>\n",
       "      <td>730.694420</td>\n",
       "    </tr>\n",
       "    <tr>\n",
       "      <th>Outlet_Identifier_OUT027</th>\n",
       "      <td>1569.010030</td>\n",
       "    </tr>\n",
       "  </tbody>\n",
       "</table>\n",
       "</div>"
      ],
      "text/plain": [
       "                                 LASSO_nonzero_coeffs\n",
       "Outlet_Establishment_Year_1998           -1468.528242\n",
       "Outlet_Identifier_OUT019                 -1457.209974\n",
       "Item_Identifier_NCH43                     -306.914663\n",
       "Item_Identifier_FDP28                     -222.548895\n",
       "Item_Identifier_NCB31                     -202.017058\n",
       "Item_Identifier_NCI30                     -113.056495\n",
       "Outlet_Identifier_OUT045                   -90.132994\n",
       "Item_Identifier_FDS27                      -87.875586\n",
       "Item_Identifier_FDV04                      -81.041772\n",
       "Item_Identifier_FDU12                      -69.866234\n",
       "Item_Visibility                            -69.673612\n",
       "Item_Type_Dairy                            -47.160886\n",
       "Outlet_Size_Small                          -38.745886\n",
       "Outlet_Establishment_Year_2002             -14.687547\n",
       "Item_Fat_Content_Low Fat                   -11.311362\n",
       "Item_Identifier_NCH06                       -8.918649\n",
       "Item_Identifier_FDI46                       -6.456156\n",
       "Item_Weight                                  0.239863\n",
       "Outlet_Establishment_Year_2004               0.736956\n",
       "Item_Type_Snack Foods                        2.043039\n",
       "Outlet_Establishment_Year_2007               6.684925\n",
       "Item_Identifier_FDW56                       12.028570\n",
       "Item_Type_Soft Drinks                       13.517640\n",
       "Item_MRP                                    15.428438\n",
       "Item_Type_Canned                            18.937898\n",
       "Outlet_Identifier_OUT017                    22.449544\n",
       "Item_Type_Fruits and Vegetables             23.295160\n",
       "Item_Identifier_FDC46                       31.051359\n",
       "Item_Fat_Content_Regular                    34.204013\n",
       "Outlet_Identifier_OUT035                    48.897625\n",
       "Item_Fat_Content_low fat                    62.203646\n",
       "Item_Identifier_NCZ54                       78.820840\n",
       "Item_Identifier_FDJ21                       82.391350\n",
       "Outlet_Location_Type_Tier 2                 88.605757\n",
       "Item_Identifier_DRK23                       90.431714\n",
       "Outlet_Size_Medium                         100.798859\n",
       "Outlet_Type_Supermarket Type3              134.789322\n",
       "Item_Identifier_FDR45                      164.072930\n",
       "Item_Identifier_FDR35                      202.193704\n",
       "Item_Identifier_FDI50                      210.209733\n",
       "Item_Identifier_FDD44                      233.431836\n",
       "Item_Identifier_FDU55                      234.014284\n",
       "Item_Identifier_FDK03                      243.590604\n",
       "Item_Type_Seafood                          254.605017\n",
       "Item_Identifier_FDA15                      266.072536\n",
       "Item_Identifier_FDC17                      324.742041\n",
       "Outlet_Type_Supermarket Type1              408.327971\n",
       "Item_Identifier_DRF36                      445.662266\n",
       "Item_Identifier_FDY25                      504.574982\n",
       "Item_Identifier_FDQ37                      515.544517\n",
       "Item_Identifier_NCE42                      598.063555\n",
       "Item_Identifier_FDZ20                      730.694420\n",
       "Outlet_Identifier_OUT027                  1569.010030"
      ]
     },
     "execution_count": 67,
     "metadata": {},
     "output_type": "execute_result"
    }
   ],
   "source": [
    "series = pd.Series(list(lasso_coef_.T[0].values)) \n",
    "  \n",
    "# Finding non zero coefficients by calling .nonzero() method \n",
    "result = series.nonzero() \n",
    "  \n",
    "# display the coefficient indexes\n",
    "# print(result) \n",
    "  \n",
    "# retrieving values using iloc method and naming the column\n",
    "lasso_coef_nonzero = lasso_coef_.T.iloc[result]\n",
    "lasso_coef_nonzero.columns = ['LASSO_nonzero_coeffs']\n",
    "  \n",
    "# display \n",
    "lasso_coef_nonzero.sort_values(by=['LASSO_nonzero_coeffs'])"
   ]
  },
  {
   "cell_type": "markdown",
   "metadata": {},
   "source": [
    "---"
   ]
  },
  {
   "cell_type": "markdown",
   "metadata": {},
   "source": [
    "## Calculating AIC and BIC \n",
    "AIC and BIC are information criteria for evaluating how good of a model is by giving a measurement of parsimony and goodness of fit. Though AIC and BIC are both Maximum Likelihood estimate driven and penalize free parameters in an effort to combat overfitting, they do so in ways that result in significantly different behavior. \n",
    "\n",
    "- AIC is defined as: $2k - 2log(L)$\n",
    "- BIC is defined as: $klog(n) - 2log(L)$  \n",
    "\n",
    "where:\n",
    "- k = model degrees of freedom\n",
    "- n = number of observations\n",
    "- L = Likelihood"
   ]
  },
  {
   "cell_type": "markdown",
   "metadata": {},
   "source": [
    "The best model in the group compared is the one that minimizes these scores, in both cases. Clearly, AIC does not depend directly on sample size. Moreover, generally speaking, AIC presents the danger that it might overfit, whereas BIC presents the danger that it might underfit, simply in virtue of how they penalize free parameters.\n",
    "\n",
    "AIC tries to select the model that most adequately describes an unknown, high dimensional reality. This means that reality is never in the set of candidate models that are being considered. On the contrary, BIC tries to find the TRUE model among the set of candidates.\n",
    "\n",
    "**The main takeaway is that when comparing models, the model with the lowest AIC/BIC should be selected.**"
   ]
  },
  {
   "cell_type": "markdown",
   "metadata": {},
   "source": [
    "## Uses of the AIC and BIC\n",
    "\n",
    "- Performing feature selection: comparing models with only a few variables and more variables, computing the AIC/BIC and select the features that generated the lowest AIC or BIC\n",
    "\n",
    "- Similarly, selecting or not selecting interactions/polynomial features depending on whether or not the AIC/BIC decreases when adding them in\n",
    "\n",
    "- Computing the AIC and BIC for several values of the regularization parameter in Ridge/Lasso models and selecting the best regularization parameter"
   ]
  },
  {
   "cell_type": "code",
   "execution_count": 23,
   "metadata": {},
   "outputs": [],
   "source": [
    "def aic(y_true, y_pred, k):\n",
    "    resid = y_true - y_pred\n",
    "    SSE = (resid**2).sum()\n",
    "    AIC = 2 * k - 2 * np.log(SSE)\n",
    "    \n",
    "    return AIC"
   ]
  },
  {
   "cell_type": "code",
   "execution_count": 24,
   "metadata": {},
   "outputs": [
    {
     "data": {
      "text/plain": [
       "1604"
      ]
     },
     "execution_count": 24,
     "metadata": {},
     "output_type": "execute_result"
    }
   ],
   "source": [
    "X.shape[1]"
   ]
  },
  {
   "cell_type": "code",
   "execution_count": 25,
   "metadata": {},
   "outputs": [
    {
     "data": {
      "text/plain": [
       "3164.428803880301"
      ]
     },
     "execution_count": 25,
     "metadata": {},
     "output_type": "execute_result"
    }
   ],
   "source": [
    "aic(y_test, y_pred_lreg, X.shape[1])"
   ]
  },
  {
   "cell_type": "code",
   "execution_count": 26,
   "metadata": {},
   "outputs": [
    {
     "data": {
      "text/plain": [
       "3164.701615273215"
      ]
     },
     "execution_count": 26,
     "metadata": {},
     "output_type": "execute_result"
    }
   ],
   "source": [
    "aic(y_test, y_pred_ridge, X.shape[1])"
   ]
  },
  {
   "cell_type": "code",
   "execution_count": 27,
   "metadata": {
    "scrolled": true
   },
   "outputs": [
    {
     "data": {
      "text/plain": [
       "3165.032334282461"
      ]
     },
     "execution_count": 27,
     "metadata": {},
     "output_type": "execute_result"
    }
   ],
   "source": [
    "aic(y_test, y_pred_lasso, X.shape[1])"
   ]
  },
  {
   "cell_type": "markdown",
   "metadata": {},
   "source": [
    "## Important Lasso/Ridge Takeaways:"
   ]
  },
  {
   "cell_type": "markdown",
   "metadata": {},
   "source": [
    "- **When to use Ridge vs. Lasso**\n",
    "\n",
    "> Ridge regression works best when all the predictors are needed; whereas Lasso regression performs very well when you have higher dimensional dataset where some predictors are useless."
   ]
  },
  {
   "cell_type": "markdown",
   "metadata": {},
   "source": [
    "- **Significant differences between Ridge & Lasso**\n",
    "\n",
    "> The Ridge penalty term shrinks the effect of the coefficients by pushing them towards zero, while the Lasso penalty term can push coefficients all the way to zero, effectively removing them from the original model."
   ]
  },
  {
   "cell_type": "markdown",
   "metadata": {},
   "source": [
    "- **NOTE:**\n",
    "\n",
    "> When the number of features exceeds the number of observations, OLS would calculate variance as infinity. Remember, two data points ascribe a line, but if you have one data point you can draw an infinite line. Therefore variance == infinity. However, by putting extra constraint on the cost function, Ridge and Lasso do not have this problem in the context of more predictors than observations. \n",
    "\n",
    "\n",
    ">> To illustrate this point, adding *a TON* of polynomials & interaction terms and running all 3 types of regression  will show that ridge and lasso outperform linear regression. Head over to Fangfang's lecture [notebook](https://github.com/learn-co-students/nyc-mhtn-ds-060319-lectures/blob/master/Mod_4/Regularization/Regularization_Ridge_Lasso.ipynb) to see this concept demonstrated through code.\n",
    "\n",
    "\n",
    "Even though linear regression performed the best in the context of no polynomials, because all features in the mpg dataset are predictive of the outcome, regularizing actually hurts the performance. However, when you add a bunch of useless polynomials and interaction terms, regularization improved the model drastically. In the context of data science in the real world, there are way too many features for people to hand pick, so you need regularization techniques."
   ]
  },
  {
   "cell_type": "markdown",
   "metadata": {},
   "source": [
    "## Quick Question: \n",
    "\n",
    "**For the dataset we just looked at:**\n",
    "\n",
    "- Was regularization important with the previous code example (no method can be an option)? \n",
    "\n",
    "- If yes, which method would you choose and why?\n",
    "\n",
    "Please work with someone next to you. Share your thoughts and then we'll discuss as a group."
   ]
  },
  {
   "cell_type": "markdown",
   "metadata": {},
   "source": [
    "#### Something to ponder:\n",
    "\n",
    "Think back to the projects you've worked on so far...\n",
    "\n",
    "- Could regularization have helped improve your model's performance?"
   ]
  },
  {
   "cell_type": "markdown",
   "metadata": {},
   "source": [
    "# Feature Selection:"
   ]
  },
  {
   "cell_type": "markdown",
   "metadata": {
    "slideshow": {
     "slide_type": "slide"
    }
   },
   "source": [
    "Feature selection is the process of selecting a subset of relevant features for use in model construction."
   ]
  },
  {
   "cell_type": "markdown",
   "metadata": {
    "slideshow": {
     "slide_type": "subslide"
    }
   },
   "source": [
    "> Top reasons to use feature selection are:\n",
    "* It reduces overfitting.\n",
    "* It enables the machine learning algorithm to train faster.\n",
    "* It reduces the complexity of a model and makes it easier to interpret.\n",
    "* It improves the accuracy of a model if the right subset is chosen.\n",
    "* It helps reduce dimensionality."
   ]
  },
  {
   "cell_type": "markdown",
   "metadata": {},
   "source": [
    "**We should have some expectation that a feature is related to our outcome** \n",
    " - *Example:* There is no causal connection between street number and housing price; This would lead to over fitting.\n",
    "\n",
    "Questions to consider:\n",
    "\n",
    "- Does this feature add value?\n",
    "\n",
    "- Can I make a case that this feature is related to the outcome using some domain knowledge?\n",
    "\n",
    "- Does this variable contain information beyond the information in other variables?\n",
    "\n",
    "- Do I need to reduce the number of variables in my model for computational complexity or other methodological reasons? (ex: KNN with 1000 features will not go well)\n",
    "\n",
    "- How can we use EDA to inform feature selection?"
   ]
  },
  {
   "cell_type": "markdown",
   "metadata": {},
   "source": [
    "---"
   ]
  },
  {
   "cell_type": "markdown",
   "metadata": {},
   "source": [
    "Since we've worked with the KC housing data before, we'll set up or initial dataframe based on previous EDA knowledge."
   ]
  },
  {
   "cell_type": "code",
   "execution_count": 28,
   "metadata": {},
   "outputs": [],
   "source": [
    "df = pd.read_csv('https://raw.githubusercontent.com/learn-co-students/nyc-mhtn-ds-042219-lectures/master/Module_4/biasvariance/kc_house_data.csv', index_col='id')"
   ]
  },
  {
   "cell_type": "code",
   "execution_count": 29,
   "metadata": {},
   "outputs": [],
   "source": [
    "df['yr_old'] = 2017 - df['yr_built']\n",
    "df['date'] = pd.to_datetime(df['date'])\n",
    "\n",
    "df['year_sold'] = df['date'].map(lambda x: x.year )\n",
    "df['since_sold'] = 2017  - df['year_sold'] \n",
    "df = df[df['price'] < 4000000]\n",
    "df= df[df['bedrooms'] < 15]\n",
    "\n",
    "df['price_log'] = np.log(df['price'])"
   ]
  },
  {
   "cell_type": "code",
   "execution_count": 30,
   "metadata": {},
   "outputs": [],
   "source": [
    "cols  = ['price_log', 'bedrooms', 'bathrooms', 'sqft_living', 'sqft_lot',\n",
    "         'grade', 'sqft_above','sqft_basement', 'yr_renovated', \n",
    "         'sqft_living15', 'sqft_lot15', 'yr_old', 'since_sold', ]"
   ]
  },
  {
   "cell_type": "code",
   "execution_count": 31,
   "metadata": {},
   "outputs": [],
   "source": [
    "# sns.pairplot(df, vars=cols);"
   ]
  },
  {
   "cell_type": "code",
   "execution_count": 32,
   "metadata": {},
   "outputs": [],
   "source": [
    "df['sqft_living_log'] = np.log(df['sqft_living'])\n",
    "df['sqft_above_log'] = np.log(df['sqft_above'])\n",
    "df['sqft_living15_log'] = np.log(df['sqft_living15'])"
   ]
  },
  {
   "cell_type": "code",
   "execution_count": 33,
   "metadata": {},
   "outputs": [
    {
     "data": {
      "text/plain": [
       "Index(['date', 'price', 'bedrooms', 'bathrooms', 'sqft_living', 'sqft_lot',\n",
       "       'floors', 'waterfront', 'view', 'condition', 'grade', 'sqft_above',\n",
       "       'sqft_basement', 'yr_built', 'yr_renovated', 'zipcode', 'lat', 'long',\n",
       "       'sqft_living15', 'sqft_lot15', 'yr_old', 'year_sold', 'since_sold',\n",
       "       'price_log', 'sqft_living_log', 'sqft_above_log', 'sqft_living15_log'],\n",
       "      dtype='object')"
      ]
     },
     "execution_count": 33,
     "metadata": {},
     "output_type": "execute_result"
    }
   ],
   "source": [
    "df.columns"
   ]
  },
  {
   "cell_type": "code",
   "execution_count": 34,
   "metadata": {},
   "outputs": [],
   "source": [
    "feature_columns = ['bedrooms', 'bathrooms', 'sqft_lot','floors', 'waterfront', \n",
    "                   'view', 'condition', 'grade','sqft_basement', 'yr_renovated', \n",
    "                   'zipcode', 'lat', 'long', 'sqft_lot15', 'yr_old', 'since_sold',\n",
    "                   'sqft_living_log', 'sqft_above_log', 'sqft_living15_log']"
   ]
  },
  {
   "cell_type": "code",
   "execution_count": 35,
   "metadata": {},
   "outputs": [],
   "source": [
    "target = df['price_log']\n",
    "features = df[feature_columns]"
   ]
  },
  {
   "cell_type": "code",
   "execution_count": 36,
   "metadata": {},
   "outputs": [],
   "source": [
    "X_train, X_test, y_train, y_test = train_test_split(features, target, random_state=34,test_size=0.2)"
   ]
  },
  {
   "cell_type": "code",
   "execution_count": 37,
   "metadata": {},
   "outputs": [
    {
     "name": "stderr",
     "output_type": "stream",
     "text": [
      "/anaconda3/lib/python3.7/site-packages/sklearn/preprocessing/data.py:625: DataConversionWarning: Data with input dtype int64, float64 were all converted to float64 by StandardScaler.\n",
      "  return self.partial_fit(X, y)\n",
      "/anaconda3/lib/python3.7/site-packages/ipykernel_launcher.py:3: DataConversionWarning: Data with input dtype int64, float64 were all converted to float64 by StandardScaler.\n",
      "  This is separate from the ipykernel package so we can avoid doing imports until\n",
      "/anaconda3/lib/python3.7/site-packages/ipykernel_launcher.py:4: DataConversionWarning: Data with input dtype int64, float64 were all converted to float64 by StandardScaler.\n",
      "  after removing the cwd from sys.path.\n"
     ]
    }
   ],
   "source": [
    "scaler = StandardScaler()\n",
    "scaler.fit(X_train)\n",
    "X_train = pd.DataFrame(data=scaler.transform(X_train), columns=feature_columns)\n",
    "X_test = pd.DataFrame(data=scaler.transform(X_test), columns=feature_columns)"
   ]
  },
  {
   "cell_type": "markdown",
   "metadata": {
    "slideshow": {
     "slide_type": "subslide"
    }
   },
   "source": [
    "## Types of Feature Selection"
   ]
  },
  {
   "cell_type": "markdown",
   "metadata": {},
   "source": [
    "Here are some of the techniques for feature selection:\n",
    "\n",
    "- Embedded Methods\n",
    "- Wrapper Methods\n",
    "- EDA & Filter Methods"
   ]
  },
  {
   "cell_type": "markdown",
   "metadata": {
    "slideshow": {
     "slide_type": "slide"
    }
   },
   "source": [
    "### Embedded Methods\n",
    "\n",
    "\n",
    "Embedded methods learn which features best contribute to the accuracy of the model while the model is being created. The most common type of embedded feature selection methods are regularization methods.\n",
    "\n",
    "As we saw earlier, regularization methods introduce additional constraints into the optimization of a predictive algorithm that bias the model toward lower complexity.\n",
    "\n",
    "We can use Lasso regression as a possible feature selection technique because Lasso regression can shrink some coefficients to zero, effectively eliminating them. "
   ]
  },
  {
   "cell_type": "markdown",
   "metadata": {},
   "source": [
    "![alt text](./resources/new_embedded.png)"
   ]
  },
  {
   "cell_type": "code",
   "execution_count": 38,
   "metadata": {},
   "outputs": [],
   "source": [
    "lreg = LinearRegression()\n",
    "lreg.fit(X_train, y_train)\n",
    "y_train_pred = lreg.predict(X_train)\n",
    "y_test_pred = lreg.predict(X_test)"
   ]
  },
  {
   "cell_type": "markdown",
   "metadata": {},
   "source": [
    "#### ***Comparing all of the coefficients***"
   ]
  },
  {
   "cell_type": "code",
   "execution_count": 39,
   "metadata": {
    "scrolled": false
   },
   "outputs": [
    {
     "data": {
      "image/png": "[encoded data removed]",
      "text/plain": [
       "<Figure size 1152x576 with 1 Axes>"
      ]
     },
     "metadata": {
      "needs_background": "light"
     },
     "output_type": "display_data"
    }
   ],
   "source": [
    "coef = pd.DataFrame(data=lreg.coef_ ).T\n",
    "coef.columns = feature_columns\n",
    "\n",
    "model_coef = coef.T.sort_values(by=0).T\n",
    "model_coef.plot(kind='bar', title='Model Coefficients', legend=False, figsize=(16,8),);"
   ]
  },
  {
   "cell_type": "code",
   "execution_count": 40,
   "metadata": {},
   "outputs": [
    {
     "data": {
      "text/plain": [
       "Index(['bedrooms', 'bathrooms', 'sqft_lot', 'floors', 'waterfront', 'view',\n",
       "       'condition', 'grade', 'sqft_basement', 'yr_renovated', 'zipcode', 'lat',\n",
       "       'long', 'sqft_lot15', 'yr_old', 'since_sold', 'sqft_living_log',\n",
       "       'sqft_above_log', 'sqft_living15_log'],\n",
       "      dtype='object')"
      ]
     },
     "execution_count": 40,
     "metadata": {},
     "output_type": "execute_result"
    }
   ],
   "source": [
    "coef.columns"
   ]
  },
  {
   "cell_type": "markdown",
   "metadata": {},
   "source": [
    "#### Lasso with different alpha levels:"
   ]
  },
  {
   "cell_type": "code",
   "execution_count": 41,
   "metadata": {},
   "outputs": [
    {
     "data": {
      "text/plain": [
       "Lasso(alpha=0.01, copy_X=True, fit_intercept=True, max_iter=1000,\n",
       "   normalize=False, positive=False, precompute=False, random_state=None,\n",
       "   selection='cyclic', tol=0.0001, warm_start=False)"
      ]
     },
     "execution_count": 41,
     "metadata": {},
     "output_type": "execute_result"
    }
   ],
   "source": [
    "## training the model\n",
    "lasso001 = Lasso(alpha=0.01, normalize=False)\n",
    "\n",
    "lasso001.fit(X_train,y_train)"
   ]
  },
  {
   "cell_type": "code",
   "execution_count": 42,
   "metadata": {},
   "outputs": [
    {
     "data": {
      "image/png": "[encoded data removed]",
      "text/plain": [
       "<Figure size 1152x576 with 1 Axes>"
      ]
     },
     "metadata": {
      "needs_background": "light"
     },
     "output_type": "display_data"
    }
   ],
   "source": [
    "lasso_coef001 = pd.DataFrame(data=lasso001.coef_).T\n",
    "lasso_coef001.columns = X_train.columns\n",
    "lasso_coef001 = lasso_coef001.T.sort_values(by=0).T\n",
    "lasso_coef001.plot(kind='bar', title='Modal Coefficients', legend=False, figsize=(16,8));"
   ]
  },
  {
   "cell_type": "code",
   "execution_count": 43,
   "metadata": {},
   "outputs": [
    {
     "data": {
      "text/html": [
       "<div>\n",
       "<style scoped>\n",
       "    .dataframe tbody tr th:only-of-type {\n",
       "        vertical-align: middle;\n",
       "    }\n",
       "\n",
       "    .dataframe tbody tr th {\n",
       "        vertical-align: top;\n",
       "    }\n",
       "\n",
       "    .dataframe thead th {\n",
       "        text-align: right;\n",
       "    }\n",
       "</style>\n",
       "<table border=\"1\" class=\"dataframe\">\n",
       "  <thead>\n",
       "    <tr style=\"text-align: right;\">\n",
       "      <th></th>\n",
       "      <th>0</th>\n",
       "    </tr>\n",
       "  </thead>\n",
       "  <tbody>\n",
       "    <tr>\n",
       "      <th>sqft_lot</th>\n",
       "      <td>0.004599</td>\n",
       "    </tr>\n",
       "    <tr>\n",
       "      <th>yr_renovated</th>\n",
       "      <td>0.008204</td>\n",
       "    </tr>\n",
       "    <tr>\n",
       "      <th>floors</th>\n",
       "      <td>0.022073</td>\n",
       "    </tr>\n",
       "    <tr>\n",
       "      <th>waterfront</th>\n",
       "      <td>0.027419</td>\n",
       "    </tr>\n",
       "    <tr>\n",
       "      <th>condition</th>\n",
       "      <td>0.030194</td>\n",
       "    </tr>\n",
       "    <tr>\n",
       "      <th>bathrooms</th>\n",
       "      <td>0.038725</td>\n",
       "    </tr>\n",
       "    <tr>\n",
       "      <th>view</th>\n",
       "      <td>0.050496</td>\n",
       "    </tr>\n",
       "    <tr>\n",
       "      <th>sqft_living15_log</th>\n",
       "      <td>0.058054</td>\n",
       "    </tr>\n",
       "    <tr>\n",
       "      <th>yr_old</th>\n",
       "      <td>0.086224</td>\n",
       "    </tr>\n",
       "    <tr>\n",
       "      <th>sqft_living_log</th>\n",
       "      <td>0.126695</td>\n",
       "    </tr>\n",
       "    <tr>\n",
       "      <th>lat</th>\n",
       "      <td>0.184313</td>\n",
       "    </tr>\n",
       "    <tr>\n",
       "      <th>grade</th>\n",
       "      <td>0.195439</td>\n",
       "    </tr>\n",
       "  </tbody>\n",
       "</table>\n",
       "</div>"
      ],
      "text/plain": [
       "                          0\n",
       "sqft_lot           0.004599\n",
       "yr_renovated       0.008204\n",
       "floors             0.022073\n",
       "waterfront         0.027419\n",
       "condition          0.030194\n",
       "bathrooms          0.038725\n",
       "view               0.050496\n",
       "sqft_living15_log  0.058054\n",
       "yr_old             0.086224\n",
       "sqft_living_log    0.126695\n",
       "lat                0.184313\n",
       "grade              0.195439"
      ]
     },
     "execution_count": 43,
     "metadata": {},
     "output_type": "execute_result"
    }
   ],
   "source": [
    "lasso_coef001.T[lasso_coef001.T[0] > 0]"
   ]
  },
  {
   "cell_type": "code",
   "execution_count": 44,
   "metadata": {},
   "outputs": [
    {
     "data": {
      "image/png": "[encoded data removed]",
      "text/plain": [
       "<Figure size 1152x576 with 1 Axes>"
      ]
     },
     "metadata": {
      "needs_background": "light"
     },
     "output_type": "display_data"
    }
   ],
   "source": [
    "## training the model\n",
    "lasso01 = Lasso(alpha=0.1, normalize=False)\n",
    "\n",
    "lasso01.fit(X_train,y_train)\n",
    "\n",
    "lasso_coef01 = pd.DataFrame(data=lasso01.coef_).T\n",
    "lasso_coef01.columns = X_train.columns\n",
    "lasso_coef01 = lasso_coef01.T.sort_values(by=0).T\n",
    "lasso_coef01.plot(kind='bar', title='Modal Coefficients', legend=False, figsize=(16,8));"
   ]
  },
  {
   "cell_type": "code",
   "execution_count": 45,
   "metadata": {},
   "outputs": [
    {
     "data": {
      "text/html": [
       "<div>\n",
       "<style scoped>\n",
       "    .dataframe tbody tr th:only-of-type {\n",
       "        vertical-align: middle;\n",
       "    }\n",
       "\n",
       "    .dataframe tbody tr th {\n",
       "        vertical-align: top;\n",
       "    }\n",
       "\n",
       "    .dataframe thead th {\n",
       "        text-align: right;\n",
       "    }\n",
       "</style>\n",
       "<table border=\"1\" class=\"dataframe\">\n",
       "  <thead>\n",
       "    <tr style=\"text-align: right;\">\n",
       "      <th></th>\n",
       "      <th>0</th>\n",
       "    </tr>\n",
       "  </thead>\n",
       "  <tbody>\n",
       "    <tr>\n",
       "      <th>view</th>\n",
       "      <td>0.009970</td>\n",
       "    </tr>\n",
       "    <tr>\n",
       "      <th>sqft_living15_log</th>\n",
       "      <td>0.012970</td>\n",
       "    </tr>\n",
       "    <tr>\n",
       "      <th>lat</th>\n",
       "      <td>0.114639</td>\n",
       "    </tr>\n",
       "    <tr>\n",
       "      <th>sqft_living_log</th>\n",
       "      <td>0.124716</td>\n",
       "    </tr>\n",
       "    <tr>\n",
       "      <th>grade</th>\n",
       "      <td>0.151854</td>\n",
       "    </tr>\n",
       "  </tbody>\n",
       "</table>\n",
       "</div>"
      ],
      "text/plain": [
       "                          0\n",
       "view               0.009970\n",
       "sqft_living15_log  0.012970\n",
       "lat                0.114639\n",
       "sqft_living_log    0.124716\n",
       "grade              0.151854"
      ]
     },
     "execution_count": 45,
     "metadata": {},
     "output_type": "execute_result"
    }
   ],
   "source": [
    "lasso_coef01.T[lasso_coef01.T[0] > 0]"
   ]
  },
  {
   "cell_type": "markdown",
   "metadata": {
    "slideshow": {
     "slide_type": "slide"
    }
   },
   "source": [
    "### Wrapper Methods\n",
    "\n",
    "Wrapper methods determine the optimal subset of features using different combinations of features to train models and then calculating performance. A predictive model is used to evaluate a combination of features and assign a score based on model accuracy. Every subset is used to train models and then evaluated on a test set. \n",
    "\n",
    "The search process may be methodical such as a best-first search, it may stochastic such as a random hill-climbing algorithm, or it may use heuristics, like forward and backward passes to add and remove features.\n",
    "\n",
    "One of the main drawbacks of wrapper methods is the sheer amount of models that needs to be trained. It can be very computationally expensive and is infeasible with large number of features. However they are highly effective in determining the optimal subset. "
   ]
  },
  {
   "cell_type": "markdown",
   "metadata": {},
   "source": [
    "![alt text](./resources/new_wrapper.png)"
   ]
  },
  {
   "cell_type": "markdown",
   "metadata": {},
   "source": [
    "#### Recursive Feature Elimination\n",
    "\n",
    "An example of a wrapper method is the recursive feature elimination algorithm.\n",
    "\n",
    "As the name suggests, this method eliminates worst performing features on a particular model one after the other until the best subset of features are known.\n",
    "\n",
    "\n",
    "Recursive elimination eliminates the least explaining features one after the other.\n",
    "For data with *n* features,\n",
    "\n",
    "- On the first round, *n-1* models are created with combination of all features except one. The least performing feature is removed\n",
    "\n",
    "- On the second round, *n-2* models are created by removing another feature.\n",
    "\n"
   ]
  },
  {
   "cell_type": "markdown",
   "metadata": {},
   "source": [
    "<img src='./resources/rfe_graph.png' width=500/>"
   ]
  },
  {
   "cell_type": "code",
   "execution_count": 46,
   "metadata": {},
   "outputs": [],
   "source": [
    "ols = LinearRegression(n_jobs=-1)"
   ]
  },
  {
   "cell_type": "code",
   "execution_count": 47,
   "metadata": {},
   "outputs": [],
   "source": [
    "poly = PolynomialFeatures(interaction_only=True, include_bias=False)"
   ]
  },
  {
   "cell_type": "code",
   "execution_count": 48,
   "metadata": {},
   "outputs": [
    {
     "data": {
      "text/plain": [
       "190"
      ]
     },
     "execution_count": 48,
     "metadata": {},
     "output_type": "execute_result"
    }
   ],
   "source": [
    "X_train_poly = pd.DataFrame(poly.fit_transform(X_train), columns=poly.get_feature_names(X_train.columns))\n",
    "X_test_poly = pd.DataFrame(poly.transform(X_test), columns=poly.get_feature_names(X_train.columns))\n",
    "\n",
    "X_train_poly.shape[1]"
   ]
  },
  {
   "cell_type": "code",
   "execution_count": 49,
   "metadata": {},
   "outputs": [
    {
     "data": {
      "text/plain": [
       "RFECV(cv=10,\n",
       "   estimator=LinearRegression(copy_X=True, fit_intercept=True, n_jobs=-1, normalize=False),\n",
       "   min_features_to_select=1, n_jobs=-1, scoring='neg_mean_squared_error',\n",
       "   step=1, verbose=0)"
      ]
     },
     "execution_count": 49,
     "metadata": {},
     "output_type": "execute_result"
    }
   ],
   "source": [
    "# Create recursive feature eliminator that scores features by mean squared errors\n",
    "rec_feat_selector = RFECV(estimator=ols, cv=10, n_jobs=-1, scoring='neg_mean_squared_error')\n",
    "\n",
    "# Fit recursive feature eliminator \n",
    "rec_feat_selector.fit(X_train_poly, y_train)"
   ]
  },
  {
   "cell_type": "code",
   "execution_count": 50,
   "metadata": {},
   "outputs": [],
   "source": [
    "selected_columns = X_train_poly.columns[rec_feat_selector.support_]\n",
    "removed_columns = X_train_poly.columns[~rec_feat_selector.support_]"
   ]
  },
  {
   "cell_type": "code",
   "execution_count": 51,
   "metadata": {},
   "outputs": [
    {
     "data": {
      "text/plain": [
       "84"
      ]
     },
     "execution_count": 51,
     "metadata": {},
     "output_type": "execute_result"
    }
   ],
   "source": [
    "len(removed_columns)"
   ]
  },
  {
   "cell_type": "code",
   "execution_count": 52,
   "metadata": {},
   "outputs": [
    {
     "data": {
      "text/plain": [
       "106"
      ]
     },
     "execution_count": 52,
     "metadata": {},
     "output_type": "execute_result"
    }
   ],
   "source": [
    "len(selected_columns)"
   ]
  },
  {
   "cell_type": "markdown",
   "metadata": {},
   "source": [
    "### EDA & Filter Methods"
   ]
  },
  {
   "cell_type": "markdown",
   "metadata": {},
   "source": [
    "Sometimes we can use basic EDA to help with feature selection. As we mentioned before, one example is that there is no causal connection between street number and housing price. So we wouldn't want to use street number as a feature. \n",
    "\n",
    "Other examples of where EDA could help us drop features would be the percentage of NaN values in a column or a column that is a useless personal identifier. A customer's eye color would not be an informative feature for software sales data."
   ]
  },
  {
   "cell_type": "markdown",
   "metadata": {
    "slideshow": {
     "slide_type": "slide"
    }
   },
   "source": [
    "Filter feature selection methods apply a statistical measure to assign a scoring metric to each feature. The features are ranked by the score and either selected to be kept or removed from the dataset. The benefit of filter methods is that they can provide us with some useful visualizations for helping us gain an understanding about characteristics of our data. "
   ]
  },
  {
   "cell_type": "markdown",
   "metadata": {},
   "source": [
    "![alt text](./resources/new_filter.png)"
   ]
  },
  {
   "cell_type": "markdown",
   "metadata": {
    "slideshow": {
     "slide_type": "fragment"
    }
   },
   "source": [
    "**Examples:** \n",
    "* F-Test\n",
    "* Chi squared test \n",
    "* Information gain \n",
    "* Correlation coefficient scores"
   ]
  },
  {
   "cell_type": "markdown",
   "metadata": {},
   "source": [
    "![alt text](./resources/FS1.webp)"
   ]
  },
  {
   "cell_type": "markdown",
   "metadata": {},
   "source": [
    "####  Removing variables based on F-Test results:\n",
    "\n",
    "An F-test is any statistical test in which the test statistic has an F-distribution under the null hypothesis. It is most often used when comparing statistical models that have been fitted to a data set, in order to identify the model that best fits the population from which the data were sampled. F-tests are named after its test statistic, F, which was named in honor of Sir Ronald Fisher. The F-statistic is simply a ratio of two variances. Variances are a measure of dispersion, or how far the data are scattered from the mean. \n",
    "\n",
    "Given that F-tests evaluate the ratio of two variances, you might think it’s only suitable for determining whether the variances are equal. Actually, it can do that and a lot more! F-tests are surprisingly flexible because you can include different variances in the ratio to test a wide variety of properties. F-tests can compare the fits of different models, test the overall significance in regression models, test specific terms in linear models, and determine whether a set of means are all equal. \n",
    "\n",
    "- The F-Test is useful in feature selection as we get to know the significance of each feature in improving the model.\n",
    "\n",
    "- Sklearn provides the `SelectKBest()` features using F-Test."
   ]
  },
  {
   "cell_type": "markdown",
   "metadata": {},
   "source": [
    "**Using the F-test to select the 10 top variables for this model**"
   ]
  },
  {
   "cell_type": "code",
   "execution_count": 53,
   "metadata": {},
   "outputs": [
    {
     "data": {
      "text/plain": [
       "SelectKBest(k=10, score_func=<function f_regression at 0x1a130ce048>)"
      ]
     },
     "execution_count": 53,
     "metadata": {},
     "output_type": "execute_result"
    }
   ],
   "source": [
    "selector = SelectKBest(f_regression, k=10)\n",
    "\n",
    "selector.fit(X_train, y_train)"
   ]
  },
  {
   "cell_type": "code",
   "execution_count": 54,
   "metadata": {},
   "outputs": [],
   "source": [
    "selected_columns = X_train.columns[selector.get_support()]\n",
    "removed_columns = X_train.columns[~selector.get_support()]\n",
    "# X_train = X_train[selected_columns]\n",
    "# X_test = X_test[selected_columns]"
   ]
  },
  {
   "cell_type": "code",
   "execution_count": 55,
   "metadata": {},
   "outputs": [
    {
     "data": {
      "text/plain": [
       "['sqft_lot',\n",
       " 'waterfront',\n",
       " 'condition',\n",
       " 'yr_renovated',\n",
       " 'zipcode',\n",
       " 'long',\n",
       " 'sqft_lot15',\n",
       " 'yr_old',\n",
       " 'since_sold']"
      ]
     },
     "execution_count": 55,
     "metadata": {},
     "output_type": "execute_result"
    }
   ],
   "source": [
    "list(removed_columns)"
   ]
  },
  {
   "cell_type": "code",
   "execution_count": 56,
   "metadata": {},
   "outputs": [
    {
     "data": {
      "text/plain": [
       "['bedrooms',\n",
       " 'bathrooms',\n",
       " 'floors',\n",
       " 'view',\n",
       " 'grade',\n",
       " 'sqft_basement',\n",
       " 'lat',\n",
       " 'sqft_living_log',\n",
       " 'sqft_above_log',\n",
       " 'sqft_living15_log']"
      ]
     },
     "execution_count": 56,
     "metadata": {},
     "output_type": "execute_result"
    }
   ],
   "source": [
    "list(selected_columns)"
   ]
  },
  {
   "cell_type": "markdown",
   "metadata": {},
   "source": [
    "#### Removing Variables based on correlation coefficient"
   ]
  },
  {
   "cell_type": "code",
   "execution_count": 57,
   "metadata": {
    "scrolled": true
   },
   "outputs": [
    {
     "data": {
      "text/html": [
       "<div>\n",
       "<style scoped>\n",
       "    .dataframe tbody tr th:only-of-type {\n",
       "        vertical-align: middle;\n",
       "    }\n",
       "\n",
       "    .dataframe tbody tr th {\n",
       "        vertical-align: top;\n",
       "    }\n",
       "\n",
       "    .dataframe thead th {\n",
       "        text-align: right;\n",
       "    }\n",
       "</style>\n",
       "<table border=\"1\" class=\"dataframe\">\n",
       "  <thead>\n",
       "    <tr style=\"text-align: right;\">\n",
       "      <th></th>\n",
       "      <th>bedrooms</th>\n",
       "      <th>bathrooms</th>\n",
       "      <th>sqft_lot</th>\n",
       "      <th>floors</th>\n",
       "      <th>waterfront</th>\n",
       "      <th>view</th>\n",
       "      <th>condition</th>\n",
       "      <th>grade</th>\n",
       "      <th>sqft_basement</th>\n",
       "      <th>yr_renovated</th>\n",
       "      <th>zipcode</th>\n",
       "      <th>lat</th>\n",
       "      <th>long</th>\n",
       "      <th>sqft_lot15</th>\n",
       "      <th>yr_old</th>\n",
       "      <th>since_sold</th>\n",
       "      <th>sqft_living_log</th>\n",
       "      <th>sqft_above_log</th>\n",
       "      <th>sqft_living15_log</th>\n",
       "    </tr>\n",
       "  </thead>\n",
       "  <tbody>\n",
       "    <tr>\n",
       "      <th>bedrooms</th>\n",
       "      <td>NaN</td>\n",
       "      <td>0.53002</td>\n",
       "      <td>0.036030</td>\n",
       "      <td>0.183029</td>\n",
       "      <td>0.010245</td>\n",
       "      <td>0.085818</td>\n",
       "      <td>0.023423</td>\n",
       "      <td>0.365484</td>\n",
       "      <td>0.309162</td>\n",
       "      <td>0.017572</td>\n",
       "      <td>0.153681</td>\n",
       "      <td>0.011145</td>\n",
       "      <td>0.131030</td>\n",
       "      <td>0.033370</td>\n",
       "      <td>0.161205</td>\n",
       "      <td>0.011949</td>\n",
       "      <td>0.634988</td>\n",
       "      <td>0.526480</td>\n",
       "      <td>0.412305</td>\n",
       "    </tr>\n",
       "    <tr>\n",
       "      <th>bathrooms</th>\n",
       "      <td>NaN</td>\n",
       "      <td>NaN</td>\n",
       "      <td>0.089223</td>\n",
       "      <td>0.507841</td>\n",
       "      <td>0.052506</td>\n",
       "      <td>0.186547</td>\n",
       "      <td>0.126874</td>\n",
       "      <td>0.662341</td>\n",
       "      <td>0.273413</td>\n",
       "      <td>0.046164</td>\n",
       "      <td>0.198083</td>\n",
       "      <td>0.026146</td>\n",
       "      <td>0.219976</td>\n",
       "      <td>0.092670</td>\n",
       "      <td>0.508137</td>\n",
       "      <td>0.028800</td>\n",
       "      <td>0.760225</td>\n",
       "      <td>0.696238</td>\n",
       "      <td>0.565961</td>\n",
       "    </tr>\n",
       "    <tr>\n",
       "      <th>sqft_lot</th>\n",
       "      <td>NaN</td>\n",
       "      <td>NaN</td>\n",
       "      <td>NaN</td>\n",
       "      <td>0.001608</td>\n",
       "      <td>0.023191</td>\n",
       "      <td>0.073394</td>\n",
       "      <td>0.009503</td>\n",
       "      <td>0.114325</td>\n",
       "      <td>0.022296</td>\n",
       "      <td>0.007013</td>\n",
       "      <td>0.123756</td>\n",
       "      <td>0.077648</td>\n",
       "      <td>0.222215</td>\n",
       "      <td>0.718256</td>\n",
       "      <td>0.051398</td>\n",
       "      <td>0.004591</td>\n",
       "      <td>0.151138</td>\n",
       "      <td>0.162148</td>\n",
       "      <td>0.146501</td>\n",
       "    </tr>\n",
       "    <tr>\n",
       "      <th>floors</th>\n",
       "      <td>NaN</td>\n",
       "      <td>NaN</td>\n",
       "      <td>NaN</td>\n",
       "      <td>NaN</td>\n",
       "      <td>0.025368</td>\n",
       "      <td>0.028801</td>\n",
       "      <td>0.269161</td>\n",
       "      <td>0.461378</td>\n",
       "      <td>0.241826</td>\n",
       "      <td>0.000234</td>\n",
       "      <td>0.058898</td>\n",
       "      <td>0.051623</td>\n",
       "      <td>0.125801</td>\n",
       "      <td>0.005808</td>\n",
       "      <td>0.493261</td>\n",
       "      <td>0.024343</td>\n",
       "      <td>0.371951</td>\n",
       "      <td>0.550515</td>\n",
       "      <td>0.276277</td>\n",
       "    </tr>\n",
       "    <tr>\n",
       "      <th>waterfront</th>\n",
       "      <td>NaN</td>\n",
       "      <td>NaN</td>\n",
       "      <td>NaN</td>\n",
       "      <td>NaN</td>\n",
       "      <td>NaN</td>\n",
       "      <td>0.400990</td>\n",
       "      <td>0.022451</td>\n",
       "      <td>0.077167</td>\n",
       "      <td>0.070714</td>\n",
       "      <td>0.087047</td>\n",
       "      <td>0.032633</td>\n",
       "      <td>0.015082</td>\n",
       "      <td>0.046341</td>\n",
       "      <td>0.030899</td>\n",
       "      <td>0.030767</td>\n",
       "      <td>0.003295</td>\n",
       "      <td>0.073730</td>\n",
       "      <td>0.057309</td>\n",
       "      <td>0.074862</td>\n",
       "    </tr>\n",
       "    <tr>\n",
       "      <th>view</th>\n",
       "      <td>NaN</td>\n",
       "      <td>NaN</td>\n",
       "      <td>NaN</td>\n",
       "      <td>NaN</td>\n",
       "      <td>NaN</td>\n",
       "      <td>NaN</td>\n",
       "      <td>0.047482</td>\n",
       "      <td>0.249859</td>\n",
       "      <td>0.282606</td>\n",
       "      <td>0.099837</td>\n",
       "      <td>0.086528</td>\n",
       "      <td>0.006943</td>\n",
       "      <td>0.077316</td>\n",
       "      <td>0.071374</td>\n",
       "      <td>0.052113</td>\n",
       "      <td>0.001844</td>\n",
       "      <td>0.249425</td>\n",
       "      <td>0.157587</td>\n",
       "      <td>0.263388</td>\n",
       "    </tr>\n",
       "    <tr>\n",
       "      <th>condition</th>\n",
       "      <td>NaN</td>\n",
       "      <td>NaN</td>\n",
       "      <td>NaN</td>\n",
       "      <td>NaN</td>\n",
       "      <td>NaN</td>\n",
       "      <td>NaN</td>\n",
       "      <td>NaN</td>\n",
       "      <td>0.144915</td>\n",
       "      <td>0.171538</td>\n",
       "      <td>0.059033</td>\n",
       "      <td>0.001544</td>\n",
       "      <td>0.019381</td>\n",
       "      <td>0.107274</td>\n",
       "      <td>0.004074</td>\n",
       "      <td>0.363367</td>\n",
       "      <td>0.042050</td>\n",
       "      <td>0.051606</td>\n",
       "      <td>0.151775</td>\n",
       "      <td>0.092541</td>\n",
       "    </tr>\n",
       "    <tr>\n",
       "      <th>grade</th>\n",
       "      <td>NaN</td>\n",
       "      <td>NaN</td>\n",
       "      <td>NaN</td>\n",
       "      <td>NaN</td>\n",
       "      <td>NaN</td>\n",
       "      <td>NaN</td>\n",
       "      <td>NaN</td>\n",
       "      <td>NaN</td>\n",
       "      <td>0.167138</td>\n",
       "      <td>0.010819</td>\n",
       "      <td>0.178703</td>\n",
       "      <td>0.115709</td>\n",
       "      <td>0.195274</td>\n",
       "      <td>0.120686</td>\n",
       "      <td>0.444334</td>\n",
       "      <td>0.032301</td>\n",
       "      <td>0.743904</td>\n",
       "      <td>0.742465</td>\n",
       "      <td>0.684236</td>\n",
       "    </tr>\n",
       "    <tr>\n",
       "      <th>sqft_basement</th>\n",
       "      <td>NaN</td>\n",
       "      <td>NaN</td>\n",
       "      <td>NaN</td>\n",
       "      <td>NaN</td>\n",
       "      <td>NaN</td>\n",
       "      <td>NaN</td>\n",
       "      <td>NaN</td>\n",
       "      <td>NaN</td>\n",
       "      <td>NaN</td>\n",
       "      <td>0.072481</td>\n",
       "      <td>0.073562</td>\n",
       "      <td>0.110795</td>\n",
       "      <td>0.143144</td>\n",
       "      <td>0.021257</td>\n",
       "      <td>0.133122</td>\n",
       "      <td>0.012089</td>\n",
       "      <td>0.421011</td>\n",
       "      <td>0.054639</td>\n",
       "      <td>0.206216</td>\n",
       "    </tr>\n",
       "    <tr>\n",
       "      <th>yr_renovated</th>\n",
       "      <td>NaN</td>\n",
       "      <td>NaN</td>\n",
       "      <td>NaN</td>\n",
       "      <td>NaN</td>\n",
       "      <td>NaN</td>\n",
       "      <td>NaN</td>\n",
       "      <td>NaN</td>\n",
       "      <td>NaN</td>\n",
       "      <td>NaN</td>\n",
       "      <td>NaN</td>\n",
       "      <td>0.067963</td>\n",
       "      <td>0.034984</td>\n",
       "      <td>0.071242</td>\n",
       "      <td>0.010293</td>\n",
       "      <td>0.227694</td>\n",
       "      <td>0.022770</td>\n",
       "      <td>0.050159</td>\n",
       "      <td>0.022682</td>\n",
       "      <td>0.006692</td>\n",
       "    </tr>\n",
       "    <tr>\n",
       "      <th>zipcode</th>\n",
       "      <td>NaN</td>\n",
       "      <td>NaN</td>\n",
       "      <td>NaN</td>\n",
       "      <td>NaN</td>\n",
       "      <td>NaN</td>\n",
       "      <td>NaN</td>\n",
       "      <td>NaN</td>\n",
       "      <td>NaN</td>\n",
       "      <td>NaN</td>\n",
       "      <td>NaN</td>\n",
       "      <td>NaN</td>\n",
       "      <td>0.266608</td>\n",
       "      <td>0.562537</td>\n",
       "      <td>0.142559</td>\n",
       "      <td>0.345884</td>\n",
       "      <td>0.001127</td>\n",
       "      <td>0.215557</td>\n",
       "      <td>0.282954</td>\n",
       "      <td>0.285855</td>\n",
       "    </tr>\n",
       "    <tr>\n",
       "      <th>lat</th>\n",
       "      <td>NaN</td>\n",
       "      <td>NaN</td>\n",
       "      <td>NaN</td>\n",
       "      <td>NaN</td>\n",
       "      <td>NaN</td>\n",
       "      <td>NaN</td>\n",
       "      <td>NaN</td>\n",
       "      <td>NaN</td>\n",
       "      <td>NaN</td>\n",
       "      <td>NaN</td>\n",
       "      <td>NaN</td>\n",
       "      <td>NaN</td>\n",
       "      <td>0.130430</td>\n",
       "      <td>0.078477</td>\n",
       "      <td>0.149889</td>\n",
       "      <td>0.027139</td>\n",
       "      <td>0.041522</td>\n",
       "      <td>0.015769</td>\n",
       "      <td>0.045749</td>\n",
       "    </tr>\n",
       "    <tr>\n",
       "      <th>long</th>\n",
       "      <td>NaN</td>\n",
       "      <td>NaN</td>\n",
       "      <td>NaN</td>\n",
       "      <td>NaN</td>\n",
       "      <td>NaN</td>\n",
       "      <td>NaN</td>\n",
       "      <td>NaN</td>\n",
       "      <td>NaN</td>\n",
       "      <td>NaN</td>\n",
       "      <td>NaN</td>\n",
       "      <td>NaN</td>\n",
       "      <td>NaN</td>\n",
       "      <td>NaN</td>\n",
       "      <td>0.251944</td>\n",
       "      <td>0.406562</td>\n",
       "      <td>0.000799</td>\n",
       "      <td>0.251164</td>\n",
       "      <td>0.355866</td>\n",
       "      <td>0.335375</td>\n",
       "    </tr>\n",
       "    <tr>\n",
       "      <th>sqft_lot15</th>\n",
       "      <td>NaN</td>\n",
       "      <td>NaN</td>\n",
       "      <td>NaN</td>\n",
       "      <td>NaN</td>\n",
       "      <td>NaN</td>\n",
       "      <td>NaN</td>\n",
       "      <td>NaN</td>\n",
       "      <td>NaN</td>\n",
       "      <td>NaN</td>\n",
       "      <td>NaN</td>\n",
       "      <td>NaN</td>\n",
       "      <td>NaN</td>\n",
       "      <td>NaN</td>\n",
       "      <td>NaN</td>\n",
       "      <td>0.070829</td>\n",
       "      <td>0.000264</td>\n",
       "      <td>0.162385</td>\n",
       "      <td>0.175785</td>\n",
       "      <td>0.180398</td>\n",
       "    </tr>\n",
       "    <tr>\n",
       "      <th>yr_old</th>\n",
       "      <td>NaN</td>\n",
       "      <td>NaN</td>\n",
       "      <td>NaN</td>\n",
       "      <td>NaN</td>\n",
       "      <td>NaN</td>\n",
       "      <td>NaN</td>\n",
       "      <td>NaN</td>\n",
       "      <td>NaN</td>\n",
       "      <td>NaN</td>\n",
       "      <td>NaN</td>\n",
       "      <td>NaN</td>\n",
       "      <td>NaN</td>\n",
       "      <td>NaN</td>\n",
       "      <td>NaN</td>\n",
       "      <td>NaN</td>\n",
       "      <td>0.000182</td>\n",
       "      <td>0.350489</td>\n",
       "      <td>0.453145</td>\n",
       "      <td>0.330934</td>\n",
       "    </tr>\n",
       "    <tr>\n",
       "      <th>since_sold</th>\n",
       "      <td>NaN</td>\n",
       "      <td>NaN</td>\n",
       "      <td>NaN</td>\n",
       "      <td>NaN</td>\n",
       "      <td>NaN</td>\n",
       "      <td>NaN</td>\n",
       "      <td>NaN</td>\n",
       "      <td>NaN</td>\n",
       "      <td>NaN</td>\n",
       "      <td>NaN</td>\n",
       "      <td>NaN</td>\n",
       "      <td>NaN</td>\n",
       "      <td>NaN</td>\n",
       "      <td>NaN</td>\n",
       "      <td>NaN</td>\n",
       "      <td>NaN</td>\n",
       "      <td>0.031178</td>\n",
       "      <td>0.028117</td>\n",
       "      <td>0.020955</td>\n",
       "    </tr>\n",
       "    <tr>\n",
       "      <th>sqft_living_log</th>\n",
       "      <td>NaN</td>\n",
       "      <td>NaN</td>\n",
       "      <td>NaN</td>\n",
       "      <td>NaN</td>\n",
       "      <td>NaN</td>\n",
       "      <td>NaN</td>\n",
       "      <td>NaN</td>\n",
       "      <td>NaN</td>\n",
       "      <td>NaN</td>\n",
       "      <td>NaN</td>\n",
       "      <td>NaN</td>\n",
       "      <td>NaN</td>\n",
       "      <td>NaN</td>\n",
       "      <td>NaN</td>\n",
       "      <td>NaN</td>\n",
       "      <td>NaN</td>\n",
       "      <td>NaN</td>\n",
       "      <td>0.865047</td>\n",
       "      <td>0.742352</td>\n",
       "    </tr>\n",
       "    <tr>\n",
       "      <th>sqft_above_log</th>\n",
       "      <td>NaN</td>\n",
       "      <td>NaN</td>\n",
       "      <td>NaN</td>\n",
       "      <td>NaN</td>\n",
       "      <td>NaN</td>\n",
       "      <td>NaN</td>\n",
       "      <td>NaN</td>\n",
       "      <td>NaN</td>\n",
       "      <td>NaN</td>\n",
       "      <td>NaN</td>\n",
       "      <td>NaN</td>\n",
       "      <td>NaN</td>\n",
       "      <td>NaN</td>\n",
       "      <td>NaN</td>\n",
       "      <td>NaN</td>\n",
       "      <td>NaN</td>\n",
       "      <td>NaN</td>\n",
       "      <td>NaN</td>\n",
       "      <td>0.708370</td>\n",
       "    </tr>\n",
       "    <tr>\n",
       "      <th>sqft_living15_log</th>\n",
       "      <td>NaN</td>\n",
       "      <td>NaN</td>\n",
       "      <td>NaN</td>\n",
       "      <td>NaN</td>\n",
       "      <td>NaN</td>\n",
       "      <td>NaN</td>\n",
       "      <td>NaN</td>\n",
       "      <td>NaN</td>\n",
       "      <td>NaN</td>\n",
       "      <td>NaN</td>\n",
       "      <td>NaN</td>\n",
       "      <td>NaN</td>\n",
       "      <td>NaN</td>\n",
       "      <td>NaN</td>\n",
       "      <td>NaN</td>\n",
       "      <td>NaN</td>\n",
       "      <td>NaN</td>\n",
       "      <td>NaN</td>\n",
       "      <td>NaN</td>\n",
       "    </tr>\n",
       "  </tbody>\n",
       "</table>\n",
       "</div>"
      ],
      "text/plain": [
       "                   bedrooms  bathrooms  sqft_lot    floors  waterfront  \\\n",
       "bedrooms                NaN    0.53002  0.036030  0.183029    0.010245   \n",
       "bathrooms               NaN        NaN  0.089223  0.507841    0.052506   \n",
       "sqft_lot                NaN        NaN       NaN  0.001608    0.023191   \n",
       "floors                  NaN        NaN       NaN       NaN    0.025368   \n",
       "waterfront              NaN        NaN       NaN       NaN         NaN   \n",
       "view                    NaN        NaN       NaN       NaN         NaN   \n",
       "condition               NaN        NaN       NaN       NaN         NaN   \n",
       "grade                   NaN        NaN       NaN       NaN         NaN   \n",
       "sqft_basement           NaN        NaN       NaN       NaN         NaN   \n",
       "yr_renovated            NaN        NaN       NaN       NaN         NaN   \n",
       "zipcode                 NaN        NaN       NaN       NaN         NaN   \n",
       "lat                     NaN        NaN       NaN       NaN         NaN   \n",
       "long                    NaN        NaN       NaN       NaN         NaN   \n",
       "sqft_lot15              NaN        NaN       NaN       NaN         NaN   \n",
       "yr_old                  NaN        NaN       NaN       NaN         NaN   \n",
       "since_sold              NaN        NaN       NaN       NaN         NaN   \n",
       "sqft_living_log         NaN        NaN       NaN       NaN         NaN   \n",
       "sqft_above_log          NaN        NaN       NaN       NaN         NaN   \n",
       "sqft_living15_log       NaN        NaN       NaN       NaN         NaN   \n",
       "\n",
       "                       view  condition     grade  sqft_basement  yr_renovated  \\\n",
       "bedrooms           0.085818   0.023423  0.365484       0.309162      0.017572   \n",
       "bathrooms          0.186547   0.126874  0.662341       0.273413      0.046164   \n",
       "sqft_lot           0.073394   0.009503  0.114325       0.022296      0.007013   \n",
       "floors             0.028801   0.269161  0.461378       0.241826      0.000234   \n",
       "waterfront         0.400990   0.022451  0.077167       0.070714      0.087047   \n",
       "view                    NaN   0.047482  0.249859       0.282606      0.099837   \n",
       "condition               NaN        NaN  0.144915       0.171538      0.059033   \n",
       "grade                   NaN        NaN       NaN       0.167138      0.010819   \n",
       "sqft_basement           NaN        NaN       NaN            NaN      0.072481   \n",
       "yr_renovated            NaN        NaN       NaN            NaN           NaN   \n",
       "zipcode                 NaN        NaN       NaN            NaN           NaN   \n",
       "lat                     NaN        NaN       NaN            NaN           NaN   \n",
       "long                    NaN        NaN       NaN            NaN           NaN   \n",
       "sqft_lot15              NaN        NaN       NaN            NaN           NaN   \n",
       "yr_old                  NaN        NaN       NaN            NaN           NaN   \n",
       "since_sold              NaN        NaN       NaN            NaN           NaN   \n",
       "sqft_living_log         NaN        NaN       NaN            NaN           NaN   \n",
       "sqft_above_log          NaN        NaN       NaN            NaN           NaN   \n",
       "sqft_living15_log       NaN        NaN       NaN            NaN           NaN   \n",
       "\n",
       "                    zipcode       lat      long  sqft_lot15    yr_old  \\\n",
       "bedrooms           0.153681  0.011145  0.131030    0.033370  0.161205   \n",
       "bathrooms          0.198083  0.026146  0.219976    0.092670  0.508137   \n",
       "sqft_lot           0.123756  0.077648  0.222215    0.718256  0.051398   \n",
       "floors             0.058898  0.051623  0.125801    0.005808  0.493261   \n",
       "waterfront         0.032633  0.015082  0.046341    0.030899  0.030767   \n",
       "view               0.086528  0.006943  0.077316    0.071374  0.052113   \n",
       "condition          0.001544  0.019381  0.107274    0.004074  0.363367   \n",
       "grade              0.178703  0.115709  0.195274    0.120686  0.444334   \n",
       "sqft_basement      0.073562  0.110795  0.143144    0.021257  0.133122   \n",
       "yr_renovated       0.067963  0.034984  0.071242    0.010293  0.227694   \n",
       "zipcode                 NaN  0.266608  0.562537    0.142559  0.345884   \n",
       "lat                     NaN       NaN  0.130430    0.078477  0.149889   \n",
       "long                    NaN       NaN       NaN    0.251944  0.406562   \n",
       "sqft_lot15              NaN       NaN       NaN         NaN  0.070829   \n",
       "yr_old                  NaN       NaN       NaN         NaN       NaN   \n",
       "since_sold              NaN       NaN       NaN         NaN       NaN   \n",
       "sqft_living_log         NaN       NaN       NaN         NaN       NaN   \n",
       "sqft_above_log          NaN       NaN       NaN         NaN       NaN   \n",
       "sqft_living15_log       NaN       NaN       NaN         NaN       NaN   \n",
       "\n",
       "                   since_sold  sqft_living_log  sqft_above_log  \\\n",
       "bedrooms             0.011949         0.634988        0.526480   \n",
       "bathrooms            0.028800         0.760225        0.696238   \n",
       "sqft_lot             0.004591         0.151138        0.162148   \n",
       "floors               0.024343         0.371951        0.550515   \n",
       "waterfront           0.003295         0.073730        0.057309   \n",
       "view                 0.001844         0.249425        0.157587   \n",
       "condition            0.042050         0.051606        0.151775   \n",
       "grade                0.032301         0.743904        0.742465   \n",
       "sqft_basement        0.012089         0.421011        0.054639   \n",
       "yr_renovated         0.022770         0.050159        0.022682   \n",
       "zipcode              0.001127         0.215557        0.282954   \n",
       "lat                  0.027139         0.041522        0.015769   \n",
       "long                 0.000799         0.251164        0.355866   \n",
       "sqft_lot15           0.000264         0.162385        0.175785   \n",
       "yr_old               0.000182         0.350489        0.453145   \n",
       "since_sold                NaN         0.031178        0.028117   \n",
       "sqft_living_log           NaN              NaN        0.865047   \n",
       "sqft_above_log            NaN              NaN             NaN   \n",
       "sqft_living15_log         NaN              NaN             NaN   \n",
       "\n",
       "                   sqft_living15_log  \n",
       "bedrooms                    0.412305  \n",
       "bathrooms                   0.565961  \n",
       "sqft_lot                    0.146501  \n",
       "floors                      0.276277  \n",
       "waterfront                  0.074862  \n",
       "view                        0.263388  \n",
       "condition                   0.092541  \n",
       "grade                       0.684236  \n",
       "sqft_basement               0.206216  \n",
       "yr_renovated                0.006692  \n",
       "zipcode                     0.285855  \n",
       "lat                         0.045749  \n",
       "long                        0.335375  \n",
       "sqft_lot15                  0.180398  \n",
       "yr_old                      0.330934  \n",
       "since_sold                  0.020955  \n",
       "sqft_living_log             0.742352  \n",
       "sqft_above_log              0.708370  \n",
       "sqft_living15_log                NaN  "
      ]
     },
     "execution_count": 57,
     "metadata": {},
     "output_type": "execute_result"
    }
   ],
   "source": [
    "# Create correlation matrix\n",
    "corr_matrix = X_train.corr().abs()\n",
    "\n",
    "# Select upper triangle of correlation matrix\n",
    "upper = corr_matrix.where(np.triu(np.ones(corr_matrix.shape), k=1).astype(np.bool))\n",
    "upper"
   ]
  },
  {
   "cell_type": "code",
   "execution_count": 58,
   "metadata": {},
   "outputs": [],
   "source": [
    "import seaborn as sns"
   ]
  },
  {
   "cell_type": "code",
   "execution_count": 59,
   "metadata": {},
   "outputs": [
    {
     "data": {
      "image/png": "[encoded data removed]",
      "text/plain": [
       "<Figure size 792x648 with 2 Axes>"
      ]
     },
     "metadata": {},
     "output_type": "display_data"
    }
   ],
   "source": [
    "sns.set(style=\"white\")\n",
    "\n",
    "# Compute the correlation matrix\n",
    "corr_matrix = X_train.corr()\n",
    "\n",
    "# Generate a mask for the upper triangle\n",
    "mask = np.zeros_like(corr_matrix, dtype=np.bool)\n",
    "mask[np.triu_indices_from(mask)] = True\n",
    "\n",
    "# Set up the matplotlib figure\n",
    "f, ax = plt.subplots(figsize=(11, 9))\n",
    "\n",
    "# Generate a custom diverging colormap\n",
    "cmap = sns.diverging_palette(220, 10, as_cmap=True)\n",
    "\n",
    "# Draw the heatmap with the mask and correct aspect ratio\n",
    "sns.heatmap(corr_matrix, mask=mask, cmap=cmap, vmax=.3, center=0,\n",
    "            square=True, linewidths=.5, cbar_kws={\"shrink\": .5});"
   ]
  },
  {
   "cell_type": "code",
   "execution_count": 60,
   "metadata": {},
   "outputs": [
    {
     "data": {
      "text/plain": [
       "19"
      ]
     },
     "execution_count": 60,
     "metadata": {},
     "output_type": "execute_result"
    }
   ],
   "source": [
    "len(X_train.columns)"
   ]
  },
  {
   "cell_type": "code",
   "execution_count": 61,
   "metadata": {},
   "outputs": [
    {
     "data": {
      "text/plain": [
       "[]"
      ]
     },
     "execution_count": 61,
     "metadata": {},
     "output_type": "execute_result"
    }
   ],
   "source": [
    "# Find index of feature columns with correlation greater than threshold\n",
    "to_drop = [column for column in upper.columns if any(upper[column] > 0.90)]\n",
    "to_drop"
   ]
  },
  {
   "cell_type": "code",
   "execution_count": 62,
   "metadata": {},
   "outputs": [],
   "source": [
    "X_train.drop(columns=to_drop, inplace=True)\n",
    "X_test.drop(columns=to_drop, inplace=True)"
   ]
  },
  {
   "cell_type": "code",
   "execution_count": 63,
   "metadata": {},
   "outputs": [
    {
     "data": {
      "text/plain": [
       "19"
      ]
     },
     "execution_count": 63,
     "metadata": {},
     "output_type": "execute_result"
    }
   ],
   "source": [
    "len(X_train.columns)"
   ]
  },
  {
   "cell_type": "markdown",
   "metadata": {},
   "source": [
    "# Summary:\n",
    "\n",
    "Great work! After reviewing over/underfitting and the bias variance trade-off, we talked about regularization. Specifically, you learned how regularization addresses the overfitting problem with it's cost function, the differences between regularization methods and when it is appropriate to use them, some of the factors to consider when selecting which features to include, and how to apply these concepts on models through your code."
   ]
  }
 ],
 "metadata": {
  "kernelspec": {
   "display_name": "Python 3",
   "language": "python",
   "name": "python3"
  },
  "language_info": {
   "codemirror_mode": {
    "name": "ipython",
    "version": 3
   },
   "file_extension": ".py",
   "mimetype": "text/x-python",
   "name": "python",
   "nbconvert_exporter": "python",
   "pygments_lexer": "ipython3",
   "version": "3.7.3"
  },
  "toc": {
   "base_numbering": 1,
   "nav_menu": {},
   "number_sections": true,
   "sideBar": true,
   "skip_h1_title": false,
   "title_cell": "Table of Contents",
   "title_sidebar": "Contents",
   "toc_cell": false,
   "toc_position": {},
   "toc_section_display": true,
   "toc_window_display": false
  }
 },
 "nbformat": 4,
 "nbformat_minor": 2
}

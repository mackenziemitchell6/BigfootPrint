{
 "cells": [
  {
   "cell_type": "code",
   "execution_count": 70,
   "metadata": {},
   "outputs": [],
   "source": [
    "import pandas as pd\n",
    "import matplotlib.pyplot as plt\n",
    "import statsmodels.api as sm\n",
    "import statsmodels.formula.api as smf\n",
    "import scipy.stats as stats\n",
    "import pandas as pd\n",
    "import scipy.stats as sci\n",
    "import numpy as np\n",
    "import seaborn as sns\n",
    "import pickle\n",
    "# from functions import CorrMtx\n",
    "#Setting styles for graphs\n",
    "sns.set(style='whitegrid',palette='bright', color_codes=True)\n",
    "sns.set_context('talk')\n",
    "    \n",
    "#Plotting all of the distributions of the target and predictor variables\n",
    "# fig, axes = plt.subplots(4,4,figsize=(30,30))\n",
    "# sns.despine(left=True)\n",
    "# sns.distplot(df['year'],ax=axes[0,0])\n",
    "# sns.distplot(df['crop_land'],ax=axes[0,1])\n",
    "# sns.distplot(df['built_up_land'],ax=axes[0,2])\n",
    "# sns.distplot(df['grazing_land'],ax=axes[0,3])\n",
    "# sns.distplot(df['forest_land'],ax=axes[1,0])\n",
    "# sns.distplot(df['fishing_ground'],ax=axes[1,1])\n",
    "# sns.distplot(df['gdp'],ax=axes[1,2])\n",
    "# sns.distplot(df['excess_carbon'],ax=axes[1,3])\n",
    "# sns.distplot(df['population'],ax=axes[2,0])\n",
    "# sns.distplot(df['percapbuilt'],ax=axes[2,1])\n",
    "# sns.distplot(df['landtypeInter'],ax=axes[2,2])\n",
    "# sns.distplot(df['carbon'],ax=axes[2,3])\n",
    "# sns.distplot(df['fishcrop'],ax=axes[3,0])\n",
    "# #Saving the plots of the distributions\n",
    "# fig.savefig('Distributions.png',bbox_inches='tight')\n",
    "\n"
   ]
  },
  {
   "cell_type": "code",
   "execution_count": 71,
   "metadata": {},
   "outputs": [
    {
     "data": {
      "text/html": [
       "<div>\n",
       "<style scoped>\n",
       "    .dataframe tbody tr th:only-of-type {\n",
       "        vertical-align: middle;\n",
       "    }\n",
       "\n",
       "    .dataframe tbody tr th {\n",
       "        vertical-align: top;\n",
       "    }\n",
       "\n",
       "    .dataframe thead th {\n",
       "        text-align: right;\n",
       "    }\n",
       "</style>\n",
       "<table border=\"1\" class=\"dataframe\">\n",
       "  <thead>\n",
       "    <tr style=\"text-align: right;\">\n",
       "      <th></th>\n",
       "      <th>country</th>\n",
       "      <th>year</th>\n",
       "      <th>record</th>\n",
       "      <th>crop_land</th>\n",
       "      <th>grazing_land</th>\n",
       "      <th>forest_land</th>\n",
       "      <th>fishing_ground</th>\n",
       "      <th>built_up_land</th>\n",
       "      <th>carbon</th>\n",
       "      <th>gdp</th>\n",
       "      <th>population</th>\n",
       "    </tr>\n",
       "  </thead>\n",
       "  <tbody>\n",
       "    <tr>\n",
       "      <th>2</th>\n",
       "      <td>Armenia</td>\n",
       "      <td>1992</td>\n",
       "      <td>EFConsPerCap</td>\n",
       "      <td>0.390923</td>\n",
       "      <td>0.189137</td>\n",
       "      <td>0.000001</td>\n",
       "      <td>0.004138</td>\n",
       "      <td>0.033669</td>\n",
       "      <td>1.112225</td>\n",
       "      <td>949.033</td>\n",
       "      <td>3449000</td>\n",
       "    </tr>\n",
       "    <tr>\n",
       "      <th>12</th>\n",
       "      <td>Armenia</td>\n",
       "      <td>1993</td>\n",
       "      <td>EFConsPerCap</td>\n",
       "      <td>0.386611</td>\n",
       "      <td>0.200749</td>\n",
       "      <td>0.000011</td>\n",
       "      <td>0.003816</td>\n",
       "      <td>0.031968</td>\n",
       "      <td>0.535277</td>\n",
       "      <td>886.033</td>\n",
       "      <td>3370000</td>\n",
       "    </tr>\n",
       "    <tr>\n",
       "      <th>22</th>\n",
       "      <td>Armenia</td>\n",
       "      <td>1994</td>\n",
       "      <td>EFConsPerCap</td>\n",
       "      <td>0.445495</td>\n",
       "      <td>0.317448</td>\n",
       "      <td>0.000023</td>\n",
       "      <td>0.003766</td>\n",
       "      <td>0.031476</td>\n",
       "      <td>0.317669</td>\n",
       "      <td>956.471</td>\n",
       "      <td>3290000</td>\n",
       "    </tr>\n",
       "    <tr>\n",
       "      <th>32</th>\n",
       "      <td>Armenia</td>\n",
       "      <td>1995</td>\n",
       "      <td>EFConsPerCap</td>\n",
       "      <td>0.380362</td>\n",
       "      <td>0.196215</td>\n",
       "      <td>0.000017</td>\n",
       "      <td>0.003926</td>\n",
       "      <td>0.031497</td>\n",
       "      <td>0.416180</td>\n",
       "      <td>1043.540</td>\n",
       "      <td>3223000</td>\n",
       "    </tr>\n",
       "    <tr>\n",
       "      <th>42</th>\n",
       "      <td>Armenia</td>\n",
       "      <td>1996</td>\n",
       "      <td>EFConsPerCap</td>\n",
       "      <td>0.441648</td>\n",
       "      <td>0.223205</td>\n",
       "      <td>0.000022</td>\n",
       "      <td>0.003030</td>\n",
       "      <td>0.035410</td>\n",
       "      <td>0.334686</td>\n",
       "      <td>1121.880</td>\n",
       "      <td>3173000</td>\n",
       "    </tr>\n",
       "  </tbody>\n",
       "</table>\n",
       "</div>"
      ],
      "text/plain": [
       "    country  year        record  crop_land  grazing_land  forest_land  \\\n",
       "2   Armenia  1992  EFConsPerCap   0.390923      0.189137     0.000001   \n",
       "12  Armenia  1993  EFConsPerCap   0.386611      0.200749     0.000011   \n",
       "22  Armenia  1994  EFConsPerCap   0.445495      0.317448     0.000023   \n",
       "32  Armenia  1995  EFConsPerCap   0.380362      0.196215     0.000017   \n",
       "42  Armenia  1996  EFConsPerCap   0.441648      0.223205     0.000022   \n",
       "\n",
       "    fishing_ground  built_up_land    carbon       gdp  population  \n",
       "2         0.004138       0.033669  1.112225   949.033     3449000  \n",
       "12        0.003816       0.031968  0.535277   886.033     3370000  \n",
       "22        0.003766       0.031476  0.317669   956.471     3290000  \n",
       "32        0.003926       0.031497  0.416180  1043.540     3223000  \n",
       "42        0.003030       0.035410  0.334686  1121.880     3173000  "
      ]
     },
     "execution_count": 71,
     "metadata": {},
     "output_type": "execute_result"
    }
   ],
   "source": [
    "#Importing csv file containing data\n",
    "df=pd.read_csv('NFA2018.csv')\n",
    "#Dropping unneeded columns in data\n",
    "df = df.drop(['ISO alpha-3 code', 'UN_region', 'UN_subregion', 'total'], axis=1)\n",
    "#Renaming GDP column to make it easier to call\n",
    "df.rename(columns={'Percapita GDP (2010 USD)':'gdp'},inplace=True)\n",
    "#Drop zeros in the following columns:\n",
    "df= df[df['forest_land'] != 0.000000]\n",
    "df= df[df['built_up_land'] != 0.000000]\n",
    "df= df[df['carbon'] != 0.000000e+00]\n",
    "#Looking only at the record type EF consumption per capita\n",
    "df=df[df['record']=='EFConsPerCap']\n",
    "#Getting rid of some outliers\n",
    "df=df[df['carbon']<=15]\n",
    "#Dropping all NaN values\n",
    "df.dropna(inplace=True)\n",
    "df.isna().sum()\n",
    "df.head()"
   ]
  },
  {
   "cell_type": "code",
   "execution_count": 72,
   "metadata": {},
   "outputs": [],
   "source": [
    "#Feature engineering\n",
    "df['excess_carbon']=df['carbon']-df['forest_land']\n",
    "#Removing some outliers\n",
    "df=df[df['excess_carbon']>=-2.5]\n",
    "df['percapbuilt']=df['built_up_land']/df['population']\n",
    "df['landtypeInter']=df['crop_land']*df['grazing_land']*df['fishing_ground']*df['built_up_land']\n",
    "df['fishcrop']=df['fishing_ground']*df['crop_land']\n",
    "df['gdppop']=df['gdp']*df['population']\n",
    "df['excess_carbonsq']=(df['excess_carbon'])**2\n",
    "df['gdplog']=np.log(df['gdp'])\n",
    "df['percapbuiltlog']=np.log(df['percapbuilt'])\n",
    "df['invexcarbon']=1/df['excess_carbon']\n",
    "df['percaplandtypes']=df['landtypeInter']/df['population']\n",
    "df['all']=df['gdp']*df['population']*df['crop_land']*df['grazing_land']*df['built_up_land']*df['fishing_ground']\n"
   ]
  },
  {
   "cell_type": "code",
   "execution_count": 73,
   "metadata": {},
   "outputs": [],
   "source": [
    "#create categorical, use categorical, continuous, AND reaction btwn them\n",
    "df['fish']=np.where(df['fishing_ground']>=0.1, 1, 0)\n",
    "df['fishinter']=df['fish']*df['fishing_ground']\n",
    "df['graze']=np.where(df['grazing_land']>=0.1, 1, 0)\n",
    "df['grazeinter']=df['graze']*df['grazing_land']"
   ]
  },
  {
   "cell_type": "code",
   "execution_count": 74,
   "metadata": {},
   "outputs": [],
   "source": [
    "from sklearn.model_selection import train_test_split\n",
    "x_feats=df\n",
    "X_train, X_test, y_train, y_test= train_test_split(x_feats,df['excess_carbon'],random_state=0)"
   ]
  },
  {
   "cell_type": "code",
   "execution_count": 75,
   "metadata": {},
   "outputs": [
    {
     "data": {
      "text/html": [
       "<table class=\"simpletable\">\n",
       "<caption>OLS Regression Results</caption>\n",
       "<tr>\n",
       "  <th>Dep. Variable:</th>      <td>excess_carbon</td>  <th>  R-squared:         </th> <td>   0.692</td> \n",
       "</tr>\n",
       "<tr>\n",
       "  <th>Model:</th>                   <td>OLS</td>       <th>  Adj. R-squared:    </th> <td>   0.691</td> \n",
       "</tr>\n",
       "<tr>\n",
       "  <th>Method:</th>             <td>Least Squares</td>  <th>  F-statistic:       </th> <td>   1818.</td> \n",
       "</tr>\n",
       "<tr>\n",
       "  <th>Date:</th>             <td>Wed, 28 Aug 2019</td> <th>  Prob (F-statistic):</th>  <td>  0.00</td>  \n",
       "</tr>\n",
       "<tr>\n",
       "  <th>Time:</th>                 <td>13:13:02</td>     <th>  Log-Likelihood:    </th> <td> -6147.9</td> \n",
       "</tr>\n",
       "<tr>\n",
       "  <th>No. Observations:</th>      <td>  4059</td>      <th>  AIC:               </th> <td>1.231e+04</td>\n",
       "</tr>\n",
       "<tr>\n",
       "  <th>Df Residuals:</th>          <td>  4053</td>      <th>  BIC:               </th> <td>1.235e+04</td>\n",
       "</tr>\n",
       "<tr>\n",
       "  <th>Df Model:</th>              <td>     5</td>      <th>                     </th>     <td> </td>    \n",
       "</tr>\n",
       "<tr>\n",
       "  <th>Covariance Type:</th>      <td>nonrobust</td>    <th>                     </th>     <td> </td>    \n",
       "</tr>\n",
       "</table>\n",
       "<table class=\"simpletable\">\n",
       "<tr>\n",
       "         <td></td>           <th>coef</th>     <th>std err</th>      <th>t</th>      <th>P>|t|</th>  <th>[0.025</th>    <th>0.975]</th>  \n",
       "</tr>\n",
       "<tr>\n",
       "  <th>Intercept</th>      <td>   -0.7857</td> <td>    0.041</td> <td>  -19.096</td> <td> 0.000</td> <td>   -0.866</td> <td>   -0.705</td>\n",
       "</tr>\n",
       "<tr>\n",
       "  <th>crop_land</th>      <td>    1.8404</td> <td>    0.080</td> <td>   23.076</td> <td> 0.000</td> <td>    1.684</td> <td>    1.997</td>\n",
       "</tr>\n",
       "<tr>\n",
       "  <th>gdp</th>            <td> 7.375e-05</td> <td> 1.53e-06</td> <td>   48.356</td> <td> 0.000</td> <td> 7.08e-05</td> <td> 7.67e-05</td>\n",
       "</tr>\n",
       "<tr>\n",
       "  <th>fishing_ground</th> <td>   -0.1794</td> <td>    0.066</td> <td>   -2.732</td> <td> 0.006</td> <td>   -0.308</td> <td>   -0.051</td>\n",
       "</tr>\n",
       "<tr>\n",
       "  <th>percapbuilt</th>    <td> 1.171e+07</td> <td> 4.32e+05</td> <td>   27.124</td> <td> 0.000</td> <td> 1.09e+07</td> <td> 1.26e+07</td>\n",
       "</tr>\n",
       "<tr>\n",
       "  <th>landtypeInter</th>  <td>  -34.3279</td> <td>    2.803</td> <td>  -12.248</td> <td> 0.000</td> <td>  -39.823</td> <td>  -28.833</td>\n",
       "</tr>\n",
       "</table>\n",
       "<table class=\"simpletable\">\n",
       "<tr>\n",
       "  <th>Omnibus:</th>       <td>2015.115</td> <th>  Durbin-Watson:     </th> <td>   2.053</td> \n",
       "</tr>\n",
       "<tr>\n",
       "  <th>Prob(Omnibus):</th>  <td> 0.000</td>  <th>  Jarque-Bera (JB):  </th> <td>38076.693</td>\n",
       "</tr>\n",
       "<tr>\n",
       "  <th>Skew:</th>           <td> 1.916</td>  <th>  Prob(JB):          </th> <td>    0.00</td> \n",
       "</tr>\n",
       "<tr>\n",
       "  <th>Kurtosis:</th>       <td>17.507</td>  <th>  Cond. No.          </th> <td>4.82e+11</td> \n",
       "</tr>\n",
       "</table><br/><br/>Warnings:<br/>[1] Standard Errors assume that the covariance matrix of the errors is correctly specified.<br/>[2] The smallest eigenvalue is 6.51e-12. This might indicate that there are<br/>strong multicollinearity problems or that the design matrix is singular."
      ],
      "text/plain": [
       "<class 'statsmodels.iolib.summary.Summary'>\n",
       "\"\"\"\n",
       "                            OLS Regression Results                            \n",
       "==============================================================================\n",
       "Dep. Variable:          excess_carbon   R-squared:                       0.692\n",
       "Model:                            OLS   Adj. R-squared:                  0.691\n",
       "Method:                 Least Squares   F-statistic:                     1818.\n",
       "Date:                Wed, 28 Aug 2019   Prob (F-statistic):               0.00\n",
       "Time:                        13:13:02   Log-Likelihood:                -6147.9\n",
       "No. Observations:                4059   AIC:                         1.231e+04\n",
       "Df Residuals:                    4053   BIC:                         1.235e+04\n",
       "Df Model:                           5                                         \n",
       "Covariance Type:            nonrobust                                         \n",
       "==================================================================================\n",
       "                     coef    std err          t      P>|t|      [0.025      0.975]\n",
       "----------------------------------------------------------------------------------\n",
       "Intercept         -0.7857      0.041    -19.096      0.000      -0.866      -0.705\n",
       "crop_land          1.8404      0.080     23.076      0.000       1.684       1.997\n",
       "gdp             7.375e-05   1.53e-06     48.356      0.000    7.08e-05    7.67e-05\n",
       "fishing_ground    -0.1794      0.066     -2.732      0.006      -0.308      -0.051\n",
       "percapbuilt     1.171e+07   4.32e+05     27.124      0.000    1.09e+07    1.26e+07\n",
       "landtypeInter    -34.3279      2.803    -12.248      0.000     -39.823     -28.833\n",
       "==============================================================================\n",
       "Omnibus:                     2015.115   Durbin-Watson:                   2.053\n",
       "Prob(Omnibus):                  0.000   Jarque-Bera (JB):            38076.693\n",
       "Skew:                           1.916   Prob(JB):                         0.00\n",
       "Kurtosis:                      17.507   Cond. No.                     4.82e+11\n",
       "==============================================================================\n",
       "\n",
       "Warnings:\n",
       "[1] Standard Errors assume that the covariance matrix of the errors is correctly specified.\n",
       "[2] The smallest eigenvalue is 6.51e-12. This might indicate that there are\n",
       "strong multicollinearity problems or that the design matrix is singular.\n",
       "\"\"\""
      ]
     },
     "execution_count": 75,
     "metadata": {},
     "output_type": "execute_result"
    }
   ],
   "source": [
    "mod=smf.ols('excess_carbon~crop_land+gdp+fishing_ground+percapbuilt+landtypeInter',data=X_train).fit()\n",
    "mod.summary()"
   ]
  },
  {
   "cell_type": "code",
   "execution_count": 76,
   "metadata": {},
   "outputs": [
    {
     "data": {
      "text/html": [
       "<table class=\"simpletable\">\n",
       "<caption>OLS Regression Results</caption>\n",
       "<tr>\n",
       "  <th>Dep. Variable:</th>      <td>excess_carbon</td>  <th>  R-squared:         </th> <td>   0.674</td>\n",
       "</tr>\n",
       "<tr>\n",
       "  <th>Model:</th>                   <td>OLS</td>       <th>  Adj. R-squared:    </th> <td>   0.672</td>\n",
       "</tr>\n",
       "<tr>\n",
       "  <th>Method:</th>             <td>Least Squares</td>  <th>  F-statistic:       </th> <td>   556.5</td>\n",
       "</tr>\n",
       "<tr>\n",
       "  <th>Date:</th>             <td>Wed, 28 Aug 2019</td> <th>  Prob (F-statistic):</th>  <td>  0.00</td> \n",
       "</tr>\n",
       "<tr>\n",
       "  <th>Time:</th>                 <td>13:13:02</td>     <th>  Log-Likelihood:    </th> <td> -1963.2</td>\n",
       "</tr>\n",
       "<tr>\n",
       "  <th>No. Observations:</th>      <td>  1354</td>      <th>  AIC:               </th> <td>   3938.</td>\n",
       "</tr>\n",
       "<tr>\n",
       "  <th>Df Residuals:</th>          <td>  1348</td>      <th>  BIC:               </th> <td>   3970.</td>\n",
       "</tr>\n",
       "<tr>\n",
       "  <th>Df Model:</th>              <td>     5</td>      <th>                     </th>     <td> </td>   \n",
       "</tr>\n",
       "<tr>\n",
       "  <th>Covariance Type:</th>      <td>nonrobust</td>    <th>                     </th>     <td> </td>   \n",
       "</tr>\n",
       "</table>\n",
       "<table class=\"simpletable\">\n",
       "<tr>\n",
       "         <td></td>           <th>coef</th>     <th>std err</th>      <th>t</th>      <th>P>|t|</th>  <th>[0.025</th>    <th>0.975]</th>  \n",
       "</tr>\n",
       "<tr>\n",
       "  <th>Intercept</th>      <td>   -0.7683</td> <td>    0.068</td> <td>  -11.275</td> <td> 0.000</td> <td>   -0.902</td> <td>   -0.635</td>\n",
       "</tr>\n",
       "<tr>\n",
       "  <th>crop_land</th>      <td>    1.8781</td> <td>    0.128</td> <td>   14.670</td> <td> 0.000</td> <td>    1.627</td> <td>    2.129</td>\n",
       "</tr>\n",
       "<tr>\n",
       "  <th>gdp</th>            <td> 6.709e-05</td> <td> 2.55e-06</td> <td>   26.303</td> <td> 0.000</td> <td> 6.21e-05</td> <td> 7.21e-05</td>\n",
       "</tr>\n",
       "<tr>\n",
       "  <th>fishing_ground</th> <td>   -0.4533</td> <td>    0.112</td> <td>   -4.061</td> <td> 0.000</td> <td>   -0.672</td> <td>   -0.234</td>\n",
       "</tr>\n",
       "<tr>\n",
       "  <th>percapbuilt</th>    <td> 1.151e+07</td> <td> 8.58e+05</td> <td>   13.422</td> <td> 0.000</td> <td> 9.83e+06</td> <td> 1.32e+07</td>\n",
       "</tr>\n",
       "<tr>\n",
       "  <th>landtypeInter</th>  <td>   -7.5770</td> <td>    6.527</td> <td>   -1.161</td> <td> 0.246</td> <td>  -20.381</td> <td>    5.227</td>\n",
       "</tr>\n",
       "</table>\n",
       "<table class=\"simpletable\">\n",
       "<tr>\n",
       "  <th>Omnibus:</th>       <td>717.836</td> <th>  Durbin-Watson:     </th> <td>   1.953</td> \n",
       "</tr>\n",
       "<tr>\n",
       "  <th>Prob(Omnibus):</th> <td> 0.000</td>  <th>  Jarque-Bera (JB):  </th> <td>18148.300</td>\n",
       "</tr>\n",
       "<tr>\n",
       "  <th>Skew:</th>          <td> 1.931</td>  <th>  Prob(JB):          </th> <td>    0.00</td> \n",
       "</tr>\n",
       "<tr>\n",
       "  <th>Kurtosis:</th>      <td>20.515</td>  <th>  Cond. No.          </th> <td>5.66e+11</td> \n",
       "</tr>\n",
       "</table><br/><br/>Warnings:<br/>[1] Standard Errors assume that the covariance matrix of the errors is correctly specified.<br/>[2] The smallest eigenvalue is 1.45e-12. This might indicate that there are<br/>strong multicollinearity problems or that the design matrix is singular."
      ],
      "text/plain": [
       "<class 'statsmodels.iolib.summary.Summary'>\n",
       "\"\"\"\n",
       "                            OLS Regression Results                            \n",
       "==============================================================================\n",
       "Dep. Variable:          excess_carbon   R-squared:                       0.674\n",
       "Model:                            OLS   Adj. R-squared:                  0.672\n",
       "Method:                 Least Squares   F-statistic:                     556.5\n",
       "Date:                Wed, 28 Aug 2019   Prob (F-statistic):               0.00\n",
       "Time:                        13:13:02   Log-Likelihood:                -1963.2\n",
       "No. Observations:                1354   AIC:                             3938.\n",
       "Df Residuals:                    1348   BIC:                             3970.\n",
       "Df Model:                           5                                         \n",
       "Covariance Type:            nonrobust                                         \n",
       "==================================================================================\n",
       "                     coef    std err          t      P>|t|      [0.025      0.975]\n",
       "----------------------------------------------------------------------------------\n",
       "Intercept         -0.7683      0.068    -11.275      0.000      -0.902      -0.635\n",
       "crop_land          1.8781      0.128     14.670      0.000       1.627       2.129\n",
       "gdp             6.709e-05   2.55e-06     26.303      0.000    6.21e-05    7.21e-05\n",
       "fishing_ground    -0.4533      0.112     -4.061      0.000      -0.672      -0.234\n",
       "percapbuilt     1.151e+07   8.58e+05     13.422      0.000    9.83e+06    1.32e+07\n",
       "landtypeInter     -7.5770      6.527     -1.161      0.246     -20.381       5.227\n",
       "==============================================================================\n",
       "Omnibus:                      717.836   Durbin-Watson:                   1.953\n",
       "Prob(Omnibus):                  0.000   Jarque-Bera (JB):            18148.300\n",
       "Skew:                           1.931   Prob(JB):                         0.00\n",
       "Kurtosis:                      20.515   Cond. No.                     5.66e+11\n",
       "==============================================================================\n",
       "\n",
       "Warnings:\n",
       "[1] Standard Errors assume that the covariance matrix of the errors is correctly specified.\n",
       "[2] The smallest eigenvalue is 1.45e-12. This might indicate that there are\n",
       "strong multicollinearity problems or that the design matrix is singular.\n",
       "\"\"\""
      ]
     },
     "execution_count": 76,
     "metadata": {},
     "output_type": "execute_result"
    }
   ],
   "source": [
    "mod=smf.ols('excess_carbon~crop_land+gdp+fishing_ground+percapbuilt+landtypeInter',data=X_test).fit()\n",
    "mod.summary()"
   ]
  },
  {
   "cell_type": "code",
   "execution_count": 77,
   "metadata": {},
   "outputs": [
    {
     "name": "stderr",
     "output_type": "stream",
     "text": [
      "/Users/mackenziemitchell/anaconda3/lib/python3.7/site-packages/pandas/core/frame.py:3940: SettingWithCopyWarning: \n",
      "A value is trying to be set on a copy of a slice from a DataFrame\n",
      "\n",
      "See the caveats in the documentation: http://pandas.pydata.org/pandas-docs/stable/indexing.html#indexing-view-versus-copy\n",
      "  errors=errors)\n"
     ]
    }
   ],
   "source": [
    "from sklearn.preprocessing import StandardScaler\n",
    "from sklearn.preprocessing import MinMaxScaler\n",
    "X_train.drop(columns=['country','record'],inplace=True)\n",
    "X_test.drop(columns=['country','record'],inplace=True)"
   ]
  },
  {
   "cell_type": "code",
   "execution_count": 78,
   "metadata": {
    "scrolled": true
   },
   "outputs": [
    {
     "name": "stderr",
     "output_type": "stream",
     "text": [
      "/Users/mackenziemitchell/anaconda3/lib/python3.7/site-packages/ipykernel_launcher.py:2: SettingWithCopyWarning: \n",
      "A value is trying to be set on a copy of a slice from a DataFrame.\n",
      "Try using .loc[row_indexer,col_indexer] = value instead\n",
      "\n",
      "See the caveats in the documentation: http://pandas.pydata.org/pandas-docs/stable/indexing.html#indexing-view-versus-copy\n",
      "  \n",
      "/Users/mackenziemitchell/anaconda3/lib/python3.7/site-packages/ipykernel_launcher.py:5: SettingWithCopyWarning: \n",
      "A value is trying to be set on a copy of a slice from a DataFrame.\n",
      "Try using .loc[row_indexer,col_indexer] = value instead\n",
      "\n",
      "See the caveats in the documentation: http://pandas.pydata.org/pandas-docs/stable/indexing.html#indexing-view-versus-copy\n",
      "  \"\"\"\n"
     ]
    },
    {
     "data": {
      "text/html": [
       "<div>\n",
       "<style scoped>\n",
       "    .dataframe tbody tr th:only-of-type {\n",
       "        vertical-align: middle;\n",
       "    }\n",
       "\n",
       "    .dataframe tbody tr th {\n",
       "        vertical-align: top;\n",
       "    }\n",
       "\n",
       "    .dataframe thead th {\n",
       "        text-align: right;\n",
       "    }\n",
       "</style>\n",
       "<table border=\"1\" class=\"dataframe\">\n",
       "  <thead>\n",
       "    <tr style=\"text-align: right;\">\n",
       "      <th></th>\n",
       "      <th>year</th>\n",
       "      <th>crop_land</th>\n",
       "      <th>grazing_land</th>\n",
       "      <th>forest_land</th>\n",
       "      <th>fishing_ground</th>\n",
       "      <th>built_up_land</th>\n",
       "      <th>carbon</th>\n",
       "      <th>gdp</th>\n",
       "      <th>population</th>\n",
       "      <th>excess_carbon</th>\n",
       "      <th>...</th>\n",
       "      <th>excess_carbonsq</th>\n",
       "      <th>gdplog</th>\n",
       "      <th>percapbuiltlog</th>\n",
       "      <th>invexcarbon</th>\n",
       "      <th>percaplandtypes</th>\n",
       "      <th>all</th>\n",
       "      <th>fish</th>\n",
       "      <th>fishinter</th>\n",
       "      <th>graze</th>\n",
       "      <th>grazeinter</th>\n",
       "    </tr>\n",
       "  </thead>\n",
       "  <tbody>\n",
       "    <tr>\n",
       "      <th>13482</th>\n",
       "      <td>0.509434</td>\n",
       "      <td>0.091184</td>\n",
       "      <td>0.007344</td>\n",
       "      <td>0.058697</td>\n",
       "      <td>0.019395</td>\n",
       "      <td>0.206505</td>\n",
       "      <td>0.013539</td>\n",
       "      <td>0.009374</td>\n",
       "      <td>0.002334</td>\n",
       "      <td>0.110918</td>\n",
       "      <td>...</td>\n",
       "      <td>7.369396e-07</td>\n",
       "      <td>0.327142</td>\n",
       "      <td>0.553229</td>\n",
       "      <td>0.807360</td>\n",
       "      <td>0.000112</td>\n",
       "      <td>0.000024</td>\n",
       "      <td>1.0</td>\n",
       "      <td>0.019395</td>\n",
       "      <td>0.0</td>\n",
       "      <td>0.000000</td>\n",
       "    </tr>\n",
       "    <tr>\n",
       "      <th>11252</th>\n",
       "      <td>0.735849</td>\n",
       "      <td>0.146790</td>\n",
       "      <td>0.033448</td>\n",
       "      <td>0.070946</td>\n",
       "      <td>0.008097</td>\n",
       "      <td>0.128064</td>\n",
       "      <td>0.007867</td>\n",
       "      <td>0.009579</td>\n",
       "      <td>0.002201</td>\n",
       "      <td>0.103261</td>\n",
       "      <td>...</td>\n",
       "      <td>6.000509e-05</td>\n",
       "      <td>0.329986</td>\n",
       "      <td>0.514371</td>\n",
       "      <td>0.777378</td>\n",
       "      <td>0.000189</td>\n",
       "      <td>0.000037</td>\n",
       "      <td>0.0</td>\n",
       "      <td>0.000000</td>\n",
       "      <td>1.0</td>\n",
       "      <td>0.033709</td>\n",
       "    </tr>\n",
       "    <tr>\n",
       "      <th>16352</th>\n",
       "      <td>0.830189</td>\n",
       "      <td>0.061925</td>\n",
       "      <td>0.015544</td>\n",
       "      <td>0.125231</td>\n",
       "      <td>0.013030</td>\n",
       "      <td>0.125694</td>\n",
       "      <td>0.012979</td>\n",
       "      <td>0.021933</td>\n",
       "      <td>0.000471</td>\n",
       "      <td>0.096819</td>\n",
       "      <td>...</td>\n",
       "      <td>2.245610e-04</td>\n",
       "      <td>0.443166</td>\n",
       "      <td>0.655179</td>\n",
       "      <td>0.778824</td>\n",
       "      <td>0.000371</td>\n",
       "      <td>0.000008</td>\n",
       "      <td>0.0</td>\n",
       "      <td>0.000000</td>\n",
       "      <td>0.0</td>\n",
       "      <td>0.000000</td>\n",
       "    </tr>\n",
       "    <tr>\n",
       "      <th>37262</th>\n",
       "      <td>0.150943</td>\n",
       "      <td>0.185364</td>\n",
       "      <td>0.033873</td>\n",
       "      <td>0.206199</td>\n",
       "      <td>0.027141</td>\n",
       "      <td>0.143813</td>\n",
       "      <td>0.012174</td>\n",
       "      <td>0.015284</td>\n",
       "      <td>0.000681</td>\n",
       "      <td>0.079549</td>\n",
       "      <td>...</td>\n",
       "      <td>1.182910e-03</td>\n",
       "      <td>0.392978</td>\n",
       "      <td>0.633945</td>\n",
       "      <td>0.779697</td>\n",
       "      <td>0.002720</td>\n",
       "      <td>0.000080</td>\n",
       "      <td>1.0</td>\n",
       "      <td>0.027141</td>\n",
       "      <td>1.0</td>\n",
       "      <td>0.034134</td>\n",
       "    </tr>\n",
       "    <tr>\n",
       "      <th>62812</th>\n",
       "      <td>0.415094</td>\n",
       "      <td>0.027187</td>\n",
       "      <td>0.089697</td>\n",
       "      <td>0.091647</td>\n",
       "      <td>0.000797</td>\n",
       "      <td>0.118785</td>\n",
       "      <td>0.033822</td>\n",
       "      <td>0.010196</td>\n",
       "      <td>0.001125</td>\n",
       "      <td>0.122623</td>\n",
       "      <td>...</td>\n",
       "      <td>1.963598e-04</td>\n",
       "      <td>0.338252</td>\n",
       "      <td>0.569932</td>\n",
       "      <td>0.782025</td>\n",
       "      <td>0.000037</td>\n",
       "      <td>0.000002</td>\n",
       "      <td>0.0</td>\n",
       "      <td>0.000000</td>\n",
       "      <td>1.0</td>\n",
       "      <td>0.089943</td>\n",
       "    </tr>\n",
       "  </tbody>\n",
       "</table>\n",
       "<p>5 rows × 24 columns</p>\n",
       "</div>"
      ],
      "text/plain": [
       "           year  crop_land  grazing_land  forest_land  fishing_ground  \\\n",
       "13482  0.509434   0.091184      0.007344     0.058697        0.019395   \n",
       "11252  0.735849   0.146790      0.033448     0.070946        0.008097   \n",
       "16352  0.830189   0.061925      0.015544     0.125231        0.013030   \n",
       "37262  0.150943   0.185364      0.033873     0.206199        0.027141   \n",
       "62812  0.415094   0.027187      0.089697     0.091647        0.000797   \n",
       "\n",
       "       built_up_land    carbon       gdp  population  excess_carbon  ...  \\\n",
       "13482       0.206505  0.013539  0.009374    0.002334       0.110918  ...   \n",
       "11252       0.128064  0.007867  0.009579    0.002201       0.103261  ...   \n",
       "16352       0.125694  0.012979  0.021933    0.000471       0.096819  ...   \n",
       "37262       0.143813  0.012174  0.015284    0.000681       0.079549  ...   \n",
       "62812       0.118785  0.033822  0.010196    0.001125       0.122623  ...   \n",
       "\n",
       "       excess_carbonsq    gdplog  percapbuiltlog  invexcarbon  \\\n",
       "13482     7.369396e-07  0.327142        0.553229     0.807360   \n",
       "11252     6.000509e-05  0.329986        0.514371     0.777378   \n",
       "16352     2.245610e-04  0.443166        0.655179     0.778824   \n",
       "37262     1.182910e-03  0.392978        0.633945     0.779697   \n",
       "62812     1.963598e-04  0.338252        0.569932     0.782025   \n",
       "\n",
       "       percaplandtypes       all  fish  fishinter  graze  grazeinter  \n",
       "13482         0.000112  0.000024   1.0   0.019395    0.0    0.000000  \n",
       "11252         0.000189  0.000037   0.0   0.000000    1.0    0.033709  \n",
       "16352         0.000371  0.000008   0.0   0.000000    0.0    0.000000  \n",
       "37262         0.002720  0.000080   1.0   0.027141    1.0    0.034134  \n",
       "62812         0.000037  0.000002   0.0   0.000000    1.0    0.089943  \n",
       "\n",
       "[5 rows x 24 columns]"
      ]
     },
     "execution_count": 78,
     "metadata": {},
     "output_type": "execute_result"
    }
   ],
   "source": [
    "for col in X_train.columns:\n",
    "    X_train[col] = (X_train[col]-min(X_train[col]))/ (max(X_train[col]) - min(X_train[col])) #We subtract the minimum and divide by the range forcing a scale of 0 to 1 for each feature\n",
    "\n",
    "for col in X_test.columns:\n",
    "    X_test[col] = (X_test[col]-min(X_test[col]))/ (max(X_test[col]) - min(X_test[col])) #We subtract the minimum and divide by the range forcing a scale of 0 to 1 for each feature\n",
    "\n",
    "X_test.head()"
   ]
  },
  {
   "cell_type": "code",
   "execution_count": 79,
   "metadata": {},
   "outputs": [
    {
     "data": {
      "text/plain": [
       "1354"
      ]
     },
     "execution_count": 79,
     "metadata": {},
     "output_type": "execute_result"
    }
   ],
   "source": [
    "mod=smf.ols('excess_carbon~crop_land+gdp+fishing_ground+percapbuilt+landtypeInter',data=X_train).fit()\n",
    "mod.summary()\n",
    "len(y_test)"
   ]
  },
  {
   "cell_type": "code",
   "execution_count": 85,
   "metadata": {},
   "outputs": [
    {
     "data": {
      "text/plain": [
       "0.19876391874116436"
      ]
     },
     "execution_count": 85,
     "metadata": {},
     "output_type": "execute_result"
    }
   ],
   "source": [
    "from sklearn import metrics\n",
    "from sklearn.linear_model import Ridge, Lasso\n",
    "from sklearn.feature_selection import SelectKBest, f_regression, RFECV\n",
    "ridge=Ridge()\n",
    "ridge.fit(X_train,y_train)\n",
    "y_pred_ridge=ridge.predict(X_test)\n",
    "len(y_pred_ridge)\n",
    "ridge_rmse=np.sqrt(metrics.mean_squared_error(y_test,y_pred_ridge))\n",
    "ridge_rmse"
   ]
  },
  {
   "cell_type": "code",
   "execution_count": 87,
   "metadata": {},
   "outputs": [
    {
     "data": {
      "text/plain": [
       "1.8070531808923482"
      ]
     },
     "execution_count": 87,
     "metadata": {},
     "output_type": "execute_result"
    }
   ],
   "source": [
    "lasso=Lasso()\n",
    "lasso.fit(X_train,y_train)\n",
    "y_pred_lasso=lasso.predict(X_test)\n",
    "lasso_rmse=np.sqrt(metrics.mean_squared_error(y_test,y_pred_lasso))\n",
    "lasso_rmse"
   ]
  },
  {
   "cell_type": "code",
   "execution_count": 90,
   "metadata": {},
   "outputs": [],
   "source": [
    "target=df['excess_carbon']\n",
    "features=df.drop(columns=['excess_carbon','carbon','forest_land'])"
   ]
  },
  {
   "cell_type": "code",
   "execution_count": 91,
   "metadata": {},
   "outputs": [
    {
     "data": {
      "text/plain": [
       "Index(['country', 'year', 'record', 'crop_land', 'grazing_land',\n",
       "       'fishing_ground', 'built_up_land', 'gdp', 'population', 'percapbuilt',\n",
       "       'landtypeInter', 'fishcrop', 'gdppop', 'excess_carbonsq', 'gdplog',\n",
       "       'percapbuiltlog', 'invexcarbon', 'percaplandtypes', 'all', 'fish',\n",
       "       'fishinter', 'graze', 'grazeinter'],\n",
       "      dtype='object')"
      ]
     },
     "execution_count": 91,
     "metadata": {},
     "output_type": "execute_result"
    }
   ],
   "source": [
    "features.columns"
   ]
  },
  {
   "cell_type": "code",
   "execution_count": 92,
   "metadata": {},
   "outputs": [
    {
     "data": {
      "text/plain": [
       "SelectKBest(k=10, score_func=<function f_regression at 0x7f9918712840>)"
      ]
     },
     "execution_count": 92,
     "metadata": {},
     "output_type": "execute_result"
    }
   ],
   "source": [
    "selector = SelectKBest(f_regression, k=10)\n",
    "\n",
    "selector.fit(X_train, y_train)"
   ]
  },
  {
   "cell_type": "code",
   "execution_count": 93,
   "metadata": {},
   "outputs": [],
   "source": [
    "selected_columns = X_train.columns[selector.get_support()]\n",
    "removed_columns = X_train.columns[~selector.get_support()]"
   ]
  },
  {
   "cell_type": "code",
   "execution_count": 94,
   "metadata": {},
   "outputs": [
    {
     "data": {
      "text/plain": [
       "['year',\n",
       " 'grazing_land',\n",
       " 'forest_land',\n",
       " 'fishing_ground',\n",
       " 'population',\n",
       " 'landtypeInter',\n",
       " 'fishcrop',\n",
       " 'gdppop',\n",
       " 'percapbuiltlog',\n",
       " 'invexcarbon',\n",
       " 'fish',\n",
       " 'fishinter',\n",
       " 'graze',\n",
       " 'grazeinter']"
      ]
     },
     "execution_count": 94,
     "metadata": {},
     "output_type": "execute_result"
    }
   ],
   "source": [
    "list(removed_columns)"
   ]
  },
  {
   "cell_type": "code",
   "execution_count": 95,
   "metadata": {},
   "outputs": [
    {
     "data": {
      "text/plain": [
       "['crop_land',\n",
       " 'built_up_land',\n",
       " 'carbon',\n",
       " 'gdp',\n",
       " 'excess_carbon',\n",
       " 'percapbuilt',\n",
       " 'excess_carbonsq',\n",
       " 'gdplog',\n",
       " 'percaplandtypes',\n",
       " 'all']"
      ]
     },
     "execution_count": 95,
     "metadata": {},
     "output_type": "execute_result"
    }
   ],
   "source": [
    "list(selected_columns)"
   ]
  },
  {
   "cell_type": "code",
   "execution_count": 98,
   "metadata": {},
   "outputs": [],
   "source": [
    "newx=X_train[['crop_land',\n",
    " 'built_up_land',\n",
    " 'carbon',\n",
    " 'gdp',\n",
    " 'excess_carbon',\n",
    " 'percapbuilt',\n",
    " 'excess_carbonsq',\n",
    " 'gdplog',\n",
    " 'percaplandtypes',\n",
    " 'all']]\n",
    "newxtest=X_test[['crop_land',\n",
    " 'built_up_land',\n",
    " 'carbon',\n",
    " 'gdp',\n",
    " 'excess_carbon',\n",
    " 'percapbuilt',\n",
    " 'excess_carbonsq',\n",
    " 'gdplog',\n",
    " 'percaplandtypes',\n",
    " 'all']]"
   ]
  },
  {
   "cell_type": "code",
   "execution_count": 99,
   "metadata": {},
   "outputs": [
    {
     "data": {
      "text/plain": [
       "0.3169582644893204"
      ]
     },
     "execution_count": 99,
     "metadata": {},
     "output_type": "execute_result"
    }
   ],
   "source": [
    "ridge=Ridge()\n",
    "ridge.fit(newx,y_train)\n",
    "y_pred_ridge=ridge.predict(newxtest)\n",
    "len(y_pred_ridge)\n",
    "ridge_rmse=np.sqrt(metrics.mean_squared_error(y_test,y_pred_ridge))\n",
    "ridge_rmse"
   ]
  },
  {
   "cell_type": "code",
   "execution_count": 100,
   "metadata": {},
   "outputs": [
    {
     "data": {
      "text/plain": [
       "1.8070531808923482"
      ]
     },
     "execution_count": 100,
     "metadata": {},
     "output_type": "execute_result"
    }
   ],
   "source": [
    "lasso=Lasso()\n",
    "lasso.fit(newx,y_train)\n",
    "y_pred_lasso=lasso.predict(newxtest)\n",
    "lasso_rmse=np.sqrt(metrics.mean_squared_error(y_test,y_pred_lasso))\n",
    "lasso_rmse"
   ]
  },
  {
   "cell_type": "code",
   "execution_count": null,
   "metadata": {},
   "outputs": [],
   "source": []
  }
 ],
 "metadata": {
  "kernelspec": {
   "display_name": "Python 3",
   "language": "python",
   "name": "python3"
  },
  "language_info": {
   "codemirror_mode": {
    "name": "ipython",
    "version": 3
   },
   "file_extension": ".py",
   "mimetype": "text/x-python",
   "name": "python",
   "nbconvert_exporter": "python",
   "pygments_lexer": "ipython3",
   "version": "3.7.3"
  }
 },
 "nbformat": 4,
 "nbformat_minor": 2
}
